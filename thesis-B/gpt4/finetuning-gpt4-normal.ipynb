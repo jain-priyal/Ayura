{
 "cells": [
  {
   "cell_type": "code",
   "execution_count": 1,
   "metadata": {},
   "outputs": [],
   "source": [
    "import pandas as pd\n",
    "import json\n",
    "import openai\n",
    "import os\n",
    "from openai import OpenAI\n",
    "import time\n",
    "from dotenv import load_dotenv"
   ]
  },
  {
   "cell_type": "code",
   "execution_count": 21,
   "metadata": {},
   "outputs": [
    {
     "name": "stdout",
     "output_type": "stream",
     "text": [
      "Dataset converted and saved as /Users/priyal/Documents/honours/datasets/qa_dataset_normal-500.jsonl\n"
     ]
    }
   ],
   "source": [
    "file_path = \"/Users/priyal/Documents/honours/datasets/qa_dataset_normal-500.csv\"  \n",
    "df = pd.read_csv(file_path)\n",
    "\n",
    "jsonl_path = \"/Users/priyal/Documents/honours/datasets/qa_dataset_normal-500.jsonl\"\n",
    "\n",
    "with open(jsonl_path, \"w\") as f:\n",
    "    for _, row in df.iterrows():\n",
    "        jsonl_entry = {\n",
    "            \"messages\": [\n",
    "                {\"role\": \"system\", \"content\": \"You are an expert in Ayurveda.\"},\n",
    "                {\"role\": \"user\", \"content\": f\"{row['instruction']}\\n{row['input']}\"},\n",
    "                {\"role\": \"assistant\", \"content\": row[\"output\"]},\n",
    "            ]\n",
    "        }\n",
    "        f.write(json.dumps(jsonl_entry) + \"\\n\")\n",
    "\n",
    "print(f\"Dataset converted and saved as {jsonl_path}\")"
   ]
  },
  {
   "cell_type": "code",
   "execution_count": 2,
   "metadata": {},
   "outputs": [],
   "source": [
    "load_dotenv(\"/Users/priyal/Documents/honours/.env/key.env\")\n",
    "client = OpenAI(api_key=os.getenv(\"OPENAI_API_KEY\"))"
   ]
  },
  {
   "cell_type": "code",
   "execution_count": 3,
   "metadata": {},
   "outputs": [],
   "source": [
    "dataset_path = \"/Users/priyal/Documents/honours/json/qa_dataset_normal-500.jsonl\""
   ]
  },
  {
   "cell_type": "code",
   "execution_count": 4,
   "metadata": {},
   "outputs": [
    {
     "name": "stdout",
     "output_type": "stream",
     "text": [
      "File ID: file-43qPZwge4KEGXyDbQW2gsn\n"
     ]
    }
   ],
   "source": [
    "with open(dataset_path, \"rb\") as file:\n",
    "    response = client.files.create(file=file, purpose=\"fine-tune\")\n",
    "\n",
    "file_id = response.id\n",
    "print(f\"File ID: {file_id}\")"
   ]
  },
  {
   "cell_type": "code",
   "execution_count": 5,
   "metadata": {},
   "outputs": [
    {
     "name": "stdout",
     "output_type": "stream",
     "text": [
      "Fine-tune ID: ftjob-fPniFzHxhbAAI4DkuRDQnz1K\n"
     ]
    }
   ],
   "source": [
    "fine_tune_response = client.fine_tuning.jobs.create(\n",
    "    training_file=file_id,\n",
    "    model=\"gpt-4o-mini-2024-07-18\",\n",
    "    hyperparameters={\"batch_size\": 4, \"n_epochs\": 5},\n",
    ")\n",
    "\n",
    "fine_tune_id = fine_tune_response.id\n",
    "print(f\"Fine-tune ID: {fine_tune_id}\")\n"
   ]
  },
  {
   "cell_type": "code",
   "execution_count": 6,
   "metadata": {},
   "outputs": [
    {
     "name": "stdout",
     "output_type": "stream",
     "text": [
      "Status: validating_files\n",
      "Status: validating_files\n",
      "Status: validating_files\n",
      "Status: running\n",
      "Status: running\n",
      "Status: running\n",
      "Status: running\n",
      "Status: running\n",
      "Status: running\n",
      "Status: running\n",
      "Status: running\n",
      "Status: running\n",
      "Status: running\n",
      "Status: running\n",
      "Status: running\n",
      "Status: running\n",
      "Status: running\n",
      "Status: running\n",
      "Status: running\n",
      "Status: running\n",
      "Status: running\n",
      "Status: running\n",
      "Status: running\n",
      "Status: running\n",
      "Status: running\n",
      "Status: running\n",
      "Status: running\n",
      "Status: succeeded\n",
      "Fine-tuning job completed with status: succeeded\n"
     ]
    }
   ],
   "source": [
    "while True:\n",
    "    response = client.fine_tuning.jobs.retrieve(fine_tune_id)\n",
    "    status = response.status\n",
    "\n",
    "    print(f\"Status: {status}\")\n",
    "\n",
    "    if status in [\"succeeded\", \"failed\", \"cancelled\"]:\n",
    "        break\n",
    "\n",
    "    time.sleep(60)\n",
    "\n",
    "print(f\"Fine-tuning job completed with status: {status}\")"
   ]
  },
  {
   "cell_type": "code",
   "execution_count": 37,
   "metadata": {},
   "outputs": [],
   "source": [
    "prompt = \"\"\"How can Ayurveda contribute to the management and treatment of epilepsy\"\"\"\n",
    "context = \"\"\"Epilepsy, a chronic non-communicable disease of the brain, is one of the most common neurological diseases globally that affects people of all ages. The existence of medical, neurological, psychiatric, and cognitive comorbidities has always undermined the available advanced treatment strategies for epilepsy. New-generation antiepileptic drugs being less successful in completely controlling the seizures and observance of complex diseases, including drug-resistant cases, have provided scope for integrating and incorporating the therapeutic modalities of Ayurveda, the ancient Indian art of holistic medicine, in the effective management of epilepsy. Epilepsy can be correlated to Apasmara, described in the classics of Ayurveda as the transient appearance of unconsciousness with loathsome expression due to derangement of memory, intelligence, and mind. The multifaceted therapeutic approach of Ayurveda, which involves pharmacologic and nonpharmacologic measures, purificatory and pacifying procedures, herbal and herbo-mineral formulations, disease, and host-specific approaches, have enhanced the potential of not only relieving symptoms but also modifying the pathophysiology of the disease. Newer paradigms of research in Ayurveda, along with holistic and integrative approaches with contemporary medicine, can not only benefit the existing healthcare system but also impact future healthcare management in epileptology research. This cursory literature review is an earnest attempt to identify, evaluate, and summarize various studies and provide a comprehensive insight into the potential of Ayurveda in understanding and treating epilepsy.\"\"\"\n",
    "input_text = f\"Context: {context}\\n\\nPrompt: {prompt}\""
   ]
  },
  {
   "cell_type": "code",
   "execution_count": null,
   "metadata": {},
   "outputs": [
    {
     "name": "stdout",
     "output_type": "stream",
     "text": [
      "Ayurveda can contribute to the management and treatment of epilepsy in several ways through its holistic and multifaceted approach to health and wellness. Here are key aspects of how Ayurveda can be integrated into the treatment of epilepsy:\n",
      "\n",
      "1. **Holistic Assessment**: Ayurveda emphasizes a comprehensive understanding of an individual’s unique constitution (Prakriti), imbalances (Vikriti), and the specific nature of their epilepsy. This personalized assessment allows for tailored treatment strategies that consider physical, mental, and emotional health.\n",
      "\n",
      "2. **Pharmacological Interventions**: Ayurvedic medicine utilizes a range of herbal formulations that may help manage seizures and their symptoms. Herbs such as Brahmi (Bacopa monnieri), Ashwagandha (Withania somnifera), and Vacha (Acorus calamus) are traditionally thought to support brain health, improve cognition, and reduce anxiety, potentially offering complementary benefits in epilepsy management.\n",
      "\n",
      "3. **Dietary Recommendations**: Ayurveda emphasizes the importance of diet in maintaining health. A balanced diet tailored to the individual can support neurological function and overall well-being. Specific dietary modifications may help reduce seizure frequency and enhance the effectiveness of conventional treatments.\n",
      "\n",
      "4. **Panchakarma Treatments**: Ayurvedic detoxification therapies, known as Panchakarma, can help purify the body and restore balance. These treatments may reduce the body’s accumulation of toxins (Ama), which Ayurveda believes contribute to various health conditions, including neurological disorders.\n",
      "\n",
      "5. **Mind-Body\n"
     ]
    }
   ],
   "source": [
    "response = client.chat.completions.create(\n",
    "    model=fine_tune_id,\n",
    "    messages=[\n",
    "        {\"role\": \"system\", \"content\": \"You are a helpful assistant.\"},\n",
    "        {\"role\": \"user\", \"content\": input_text},\n",
    "    ],\n",
    "    max_tokens=300,\n",
    ")\n",
    "\n",
    "print(response.choices[0].message.content.strip())"
   ]
  }
 ],
 "metadata": {
  "kernelspec": {
   "display_name": "mistral_env2",
   "language": "python",
   "name": "python3"
  },
  "language_info": {
   "codemirror_mode": {
    "name": "ipython",
    "version": 3
   },
   "file_extension": ".py",
   "mimetype": "text/x-python",
   "name": "python",
   "nbconvert_exporter": "python",
   "pygments_lexer": "ipython3",
   "version": "3.11.10"
  }
 },
 "nbformat": 4,
 "nbformat_minor": 2
}
