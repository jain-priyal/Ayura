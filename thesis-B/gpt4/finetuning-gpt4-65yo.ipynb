{
 "cells": [
  {
   "cell_type": "code",
   "execution_count": 1,
   "metadata": {},
   "outputs": [],
   "source": [
    "import pandas as pd\n",
    "import json\n",
    "import openai\n",
    "import os\n",
    "from openai import OpenAI\n",
    "import time\n",
    "from dotenv import load_dotenv"
   ]
  },
  {
   "cell_type": "code",
   "execution_count": 2,
   "metadata": {},
   "outputs": [
    {
     "name": "stdout",
     "output_type": "stream",
     "text": [
      "Dataset converted and saved as /Users/priyal/Documents/honours/datasets/qa_dataset_65yo-500.jsonl\n"
     ]
    }
   ],
   "source": [
    "file_path = \"/Users/priyal/Documents/honours/datasets/qa_dataset_65yo-500.csv\"  \n",
    "df = pd.read_csv(file_path)\n",
    "\n",
    "jsonl_path = \"/Users/priyal/Documents/honours/datasets/qa_dataset_65yo-500.jsonl\"\n",
    "\n",
    "with open(jsonl_path, \"w\") as f:\n",
    "    for _, row in df.iterrows():\n",
    "        jsonl_entry = {\n",
    "            \"messages\": [\n",
    "                {\"role\": \"system\", \"content\": \"You are an expert in Ayurveda.\"},\n",
    "                {\"role\": \"user\", \"content\": f\"{row['instruction']}\\n{row['input']}\"},\n",
    "                {\"role\": \"assistant\", \"content\": row[\"output\"]},\n",
    "            ]\n",
    "        }\n",
    "        f.write(json.dumps(jsonl_entry) + \"\\n\")\n",
    "\n",
    "print(f\"Dataset converted and saved as {jsonl_path}\")"
   ]
  },
  {
   "cell_type": "code",
   "execution_count": 3,
   "metadata": {},
   "outputs": [],
   "source": [
    "load_dotenv(\"/Users/priyal/Documents/honours/.env/key.env\")\n",
    "client = OpenAI(api_key=os.getenv(\"OPENAI_API_KEY\"))"
   ]
  },
  {
   "cell_type": "code",
   "execution_count": 4,
   "metadata": {},
   "outputs": [],
   "source": [
    "dataset_path = \"/Users/priyal/Documents/honours/json/qa_dataset_65yo-500.jsonl\""
   ]
  },
  {
   "cell_type": "code",
   "execution_count": 5,
   "metadata": {},
   "outputs": [
    {
     "name": "stdout",
     "output_type": "stream",
     "text": [
      "File ID: file-KKPwZwzk2yeGxbJVWTNmkJ\n"
     ]
    }
   ],
   "source": [
    "with open(dataset_path, \"rb\") as file:\n",
    "    response = client.files.create(file=file, purpose=\"fine-tune\")\n",
    "\n",
    "file_id = response.id\n",
    "print(f\"File ID: {file_id}\")"
   ]
  },
  {
   "cell_type": "code",
   "execution_count": 6,
   "metadata": {},
   "outputs": [
    {
     "name": "stdout",
     "output_type": "stream",
     "text": [
      "Fine-tune ID: ftjob-GQLEgwIrAjsaUClQ7PaHhSrM\n"
     ]
    }
   ],
   "source": [
    "fine_tune_response = client.fine_tuning.jobs.create(\n",
    "    training_file=file_id,\n",
    "    model=\"gpt-4o-mini-2024-07-18\",\n",
    "    hyperparameters={\"batch_size\": 4, \"n_epochs\": 5},\n",
    ")\n",
    "\n",
    "fine_tune_id = fine_tune_response.id\n",
    "print(f\"Fine-tune ID: {fine_tune_id}\")\n"
   ]
  },
  {
   "cell_type": "code",
   "execution_count": 7,
   "metadata": {},
   "outputs": [
    {
     "name": "stdout",
     "output_type": "stream",
     "text": [
      "Status: validating_files\n",
      "Status: validating_files\n",
      "Status: running\n",
      "Status: running\n",
      "Status: running\n",
      "Status: running\n",
      "Status: running\n",
      "Status: running\n",
      "Status: running\n",
      "Status: running\n",
      "Status: running\n",
      "Status: running\n",
      "Status: running\n",
      "Status: running\n",
      "Status: running\n",
      "Status: running\n",
      "Status: running\n",
      "Status: running\n",
      "Status: running\n",
      "Status: running\n",
      "Status: succeeded\n",
      "Fine-tuning job completed with status: succeeded\n"
     ]
    }
   ],
   "source": [
    "while True:\n",
    "    response = client.fine_tuning.jobs.retrieve(fine_tune_id)\n",
    "    status = response.status\n",
    "\n",
    "    print(f\"Status: {status}\")\n",
    "\n",
    "    if status in [\"succeeded\", \"failed\", \"cancelled\"]:\n",
    "        break\n",
    "\n",
    "    time.sleep(60)\n",
    "\n",
    "print(f\"Fine-tuning job completed with status: {status}\")"
   ]
  }
 ],
 "metadata": {
  "kernelspec": {
   "display_name": "mistral_env2",
   "language": "python",
   "name": "python3"
  },
  "language_info": {
   "codemirror_mode": {
    "name": "ipython",
    "version": 3
   },
   "file_extension": ".py",
   "mimetype": "text/x-python",
   "name": "python",
   "nbconvert_exporter": "python",
   "pygments_lexer": "ipython3",
   "version": "3.11.10"
  }
 },
 "nbformat": 4,
 "nbformat_minor": 2
}
