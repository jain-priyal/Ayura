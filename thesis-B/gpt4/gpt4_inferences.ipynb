{
 "cells": [
  {
   "cell_type": "code",
   "execution_count": null,
   "metadata": {},
   "outputs": [],
   "source": [
    "import pandas as pd\n",
    "\n",
    "normal_df = pd.read_csv(\"qa_dataset_normal-500.csv\")\n",
    "yo20_df = pd.read_csv(\"qa_dataset_20yo-500.csv\")\n",
    "yo65_df = pd.read_csv(\"qa_dataset_65yo-500.csv\")\n",
    "\n",
    "merged_df = normal_df.merge(\n",
    "    yo20_df[[\"instruction\", \"input\"]], on=\"input\", suffixes=(\"_normal\", \"_20yo\")\n",
    ").merge(yo65_df[[\"instruction\", \"input\"]], on=\"input\")\n",
    "\n",
    "merged_df = merged_df.rename(\n",
    "    columns={\n",
    "        \"instruction_normal\": \"question_normal\",\n",
    "        \"instruction_20yo\": \"question_20yo\",\n",
    "        \"instruction\": \"question_65yo\",\n",
    "        \"input\": \"context\",\n",
    "    }\n",
    ")\n",
    "\n",
    "merged_df[[\"context\", \"question_normal\", \"question_20yo\", \"question_65yo\"]].to_csv(\n",
    "    \"aligned_evaluation_set.csv\", index=False\n",
    ")\n",
    "\n",
    "print(\n",
    "    merged_df[[\"context\", \"question_normal\", \"question_20yo\", \"question_65yo\"]].head()\n",
    ")"
   ]
  },
  {
   "cell_type": "code",
   "execution_count": 1,
   "metadata": {},
   "outputs": [],
   "source": [
    "import pandas as pd\n",
    "import openai\n",
    "import os\n",
    "from dotenv import load_dotenv\n",
    "import time\n",
    "from openai import OpenAI"
   ]
  },
  {
   "cell_type": "code",
   "execution_count": 2,
   "metadata": {},
   "outputs": [],
   "source": [
    "load_dotenv(\"/Users/priyal/Documents/honours/.env/key.env\")\n",
    "openai.api_key = os.getenv(\"OPENAI_API_KEY\")\n",
    "\n",
    "\n",
    "client = OpenAI(api_key=os.getenv(\"OPENAI_API_KEY\"))"
   ]
  },
  {
   "cell_type": "code",
   "execution_count": 3,
   "metadata": {},
   "outputs": [],
   "source": [
    "with open(\"/Users/priyal/Documents/honours/thesis-B/finetuned_gpt4_normal_id.txt\") as f:\n",
    "    model_normal = f.read().strip()\n",
    "\n",
    "with open(\"/Users/priyal/Documents/honours/thesis-B/finetuned_gpt4_20yo_id.txt\") as f:\n",
    "    model_20yo = f.read().strip()\n",
    "\n",
    "with open(\"/Users/priyal/Documents/honours/thesis-B/finetuned_gpt4_65yo_id.txt\") as f:\n",
    "    model_65yo = f.read().strip()"
   ]
  },
  {
   "cell_type": "code",
   "execution_count": 4,
   "metadata": {},
   "outputs": [
    {
     "data": {
      "text/html": [
       "<div>\n",
       "<style scoped>\n",
       "    .dataframe tbody tr th:only-of-type {\n",
       "        vertical-align: middle;\n",
       "    }\n",
       "\n",
       "    .dataframe tbody tr th {\n",
       "        vertical-align: top;\n",
       "    }\n",
       "\n",
       "    .dataframe thead th {\n",
       "        text-align: right;\n",
       "    }\n",
       "</style>\n",
       "<table border=\"1\" class=\"dataframe\">\n",
       "  <thead>\n",
       "    <tr style=\"text-align: right;\">\n",
       "      <th></th>\n",
       "      <th>Unnamed: 0</th>\n",
       "      <th>context</th>\n",
       "      <th>question_normal</th>\n",
       "      <th>question_20yo</th>\n",
       "      <th>question_65yo</th>\n",
       "    </tr>\n",
       "  </thead>\n",
       "  <tbody>\n",
       "    <tr>\n",
       "      <th>0</th>\n",
       "      <td>0</td>\n",
       "      <td>Ayurveda is a comprehensive, natural health ca...</td>\n",
       "      <td>Can Ayurvedic practices influence our genes an...</td>\n",
       "      <td>Can changing my lifestyle or diet with Ayurved...</td>\n",
       "      <td>Can Ayurveda practices like changing my diet o...</td>\n",
       "    </tr>\n",
       "    <tr>\n",
       "      <th>1</th>\n",
       "      <td>1</td>\n",
       "      <td>ETHNOPHARMACOLOGICAL RELEVANCE: Diabetes is a ...</td>\n",
       "      <td>How can integrating Ayurveda principles with m...</td>\n",
       "      <td>I've heard that diabetes is more than just hav...</td>\n",
       "      <td>I've been struggling with my diabetes manageme...</td>\n",
       "    </tr>\n",
       "    <tr>\n",
       "      <th>2</th>\n",
       "      <td>2</td>\n",
       "      <td>Epilepsy, a chronic non-communicable disease o...</td>\n",
       "      <td>How can Ayurveda be used in managing and treat...</td>\n",
       "      <td>I've heard that Ayurveda might help with manag...</td>\n",
       "      <td>I've been having seizures and my current medic...</td>\n",
       "    </tr>\n",
       "    <tr>\n",
       "      <th>3</th>\n",
       "      <td>3</td>\n",
       "      <td>Coalescence of traditional medicine Ayurveda a...</td>\n",
       "      <td>Can the use of in silico technology help impro...</td>\n",
       "      <td>So, can technology like computers and stuff be...</td>\n",
       "      <td>Can combining traditional Ayurvedic treatments...</td>\n",
       "    </tr>\n",
       "    <tr>\n",
       "      <th>4</th>\n",
       "      <td>4</td>\n",
       "      <td>BACKGROUND: Migraine is generally recognized a...</td>\n",
       "      <td>How can Ayurvedic medicine help in preventing ...</td>\n",
       "      <td>I get migraines a lot and normal treatments do...</td>\n",
       "      <td>I often suffer from migraines. Are there any n...</td>\n",
       "    </tr>\n",
       "  </tbody>\n",
       "</table>\n",
       "</div>"
      ],
      "text/plain": [
       "   Unnamed: 0                                            context  \\\n",
       "0           0  Ayurveda is a comprehensive, natural health ca...   \n",
       "1           1  ETHNOPHARMACOLOGICAL RELEVANCE: Diabetes is a ...   \n",
       "2           2  Epilepsy, a chronic non-communicable disease o...   \n",
       "3           3  Coalescence of traditional medicine Ayurveda a...   \n",
       "4           4  BACKGROUND: Migraine is generally recognized a...   \n",
       "\n",
       "                                     question_normal  \\\n",
       "0  Can Ayurvedic practices influence our genes an...   \n",
       "1  How can integrating Ayurveda principles with m...   \n",
       "2  How can Ayurveda be used in managing and treat...   \n",
       "3  Can the use of in silico technology help impro...   \n",
       "4  How can Ayurvedic medicine help in preventing ...   \n",
       "\n",
       "                                       question_20yo  \\\n",
       "0  Can changing my lifestyle or diet with Ayurved...   \n",
       "1  I've heard that diabetes is more than just hav...   \n",
       "2  I've heard that Ayurveda might help with manag...   \n",
       "3  So, can technology like computers and stuff be...   \n",
       "4  I get migraines a lot and normal treatments do...   \n",
       "\n",
       "                                       question_65yo  \n",
       "0  Can Ayurveda practices like changing my diet o...  \n",
       "1  I've been struggling with my diabetes manageme...  \n",
       "2  I've been having seizures and my current medic...  \n",
       "3  Can combining traditional Ayurvedic treatments...  \n",
       "4  I often suffer from migraines. Are there any n...  "
      ]
     },
     "execution_count": 4,
     "metadata": {},
     "output_type": "execute_result"
    }
   ],
   "source": [
    "df = pd.read_csv(\"/Users/priyal/Documents/honours/datasets/evaluation_set.csv\").head(50)\n",
    "df.head()"
   ]
  },
  {
   "cell_type": "markdown",
   "metadata": {},
   "source": [
    "System prompts are avoided to ensure that the model's responses reflect the effects of fine-tuning, not the pre-trained model’s behavior."
   ]
  },
  {
   "cell_type": "code",
   "execution_count": 5,
   "metadata": {},
   "outputs": [],
   "source": [
    "def get_response(model_id, context, question):\n",
    "    prompt = f\"Context:\\n{context}\\n\\nQuestion:\\n{question}\"\n",
    "    try:\n",
    "        response = client.chat.completions.create(\n",
    "            model=model_id,\n",
    "            messages=[{\"role\": \"user\", \"content\": prompt}],\n",
    "            temperature=0.7,\n",
    "            max_tokens=300,\n",
    "        )\n",
    "        return response.choices[0].message.content.strip()\n",
    "    except Exception as e:\n",
    "        print(f\"Error: {e}\")\n",
    "        return \"Error\""
   ]
  },
  {
   "cell_type": "code",
   "execution_count": 6,
   "metadata": {},
   "outputs": [
    {
     "name": "stdout",
     "output_type": "stream",
     "text": [
      "Processing row 1/50...\n",
      "Processing row 2/50...\n",
      "Processing row 3/50...\n",
      "Processing row 4/50...\n",
      "Processing row 5/50...\n",
      "Processing row 6/50...\n",
      "Processing row 7/50...\n",
      "Processing row 8/50...\n",
      "Processing row 9/50...\n",
      "Processing row 10/50...\n",
      "Processing row 11/50...\n",
      "Processing row 12/50...\n",
      "Processing row 13/50...\n",
      "Processing row 14/50...\n",
      "Processing row 15/50...\n",
      "Processing row 16/50...\n",
      "Processing row 17/50...\n",
      "Processing row 18/50...\n",
      "Processing row 19/50...\n",
      "Processing row 20/50...\n",
      "Processing row 21/50...\n",
      "Processing row 22/50...\n",
      "Processing row 23/50...\n",
      "Processing row 24/50...\n",
      "Processing row 25/50...\n",
      "Processing row 26/50...\n",
      "Processing row 27/50...\n",
      "Processing row 28/50...\n",
      "Processing row 29/50...\n",
      "Processing row 30/50...\n",
      "Processing row 31/50...\n",
      "Processing row 32/50...\n",
      "Processing row 33/50...\n",
      "Processing row 34/50...\n",
      "Processing row 35/50...\n",
      "Processing row 36/50...\n",
      "Processing row 37/50...\n",
      "Processing row 38/50...\n",
      "Processing row 39/50...\n",
      "Processing row 40/50...\n",
      "Processing row 41/50...\n",
      "Processing row 42/50...\n",
      "Processing row 43/50...\n",
      "Processing row 44/50...\n",
      "Processing row 45/50...\n",
      "Processing row 46/50...\n",
      "Processing row 47/50...\n",
      "Processing row 48/50...\n",
      "Processing row 49/50...\n",
      "Processing row 50/50...\n"
     ]
    }
   ],
   "source": [
    "normal_outputs = []\n",
    "yo20_outputs = []\n",
    "yo65_outputs = []\n",
    "\n",
    "for idx, row in df.iterrows():\n",
    "    print(f\"Processing row {idx+1}/50...\")\n",
    "\n",
    "    normal_outputs.append(\n",
    "        get_response(model_normal, row[\"context\"], row[\"question_normal\"])\n",
    "    )\n",
    "    yo20_outputs.append(get_response(model_20yo, row[\"context\"], row[\"question_20yo\"]))\n",
    "    yo65_outputs.append(get_response(model_65yo, row[\"context\"], row[\"question_65yo\"]))\n",
    "\n",
    "    time.sleep(1.2)"
   ]
  },
  {
   "cell_type": "code",
   "execution_count": 7,
   "metadata": {},
   "outputs": [
    {
     "name": "stdout",
     "output_type": "stream",
     "text": [
      "Responses saved to gpt4_persona_responses_50.csv ✅\n"
     ]
    }
   ],
   "source": [
    "df[\"gpt4_normal_response\"] = normal_outputs\n",
    "df[\"gpt4_20yo_response\"] = yo20_outputs\n",
    "df[\"gpt4_65yo_response\"] = yo65_outputs\n",
    "\n",
    "df.to_csv(\n",
    "    \"/Users/priyal/Documents/honours/datasets/gpt4_persona_responses_50.csv\",\n",
    "    index=False,\n",
    ")\n",
    "print(\"Responses saved to gpt4_persona_responses_50.csv ✅\")"
   ]
  },
  {
   "cell_type": "code",
   "execution_count": null,
   "metadata": {},
   "outputs": [],
   "source": []
  }
 ],
 "metadata": {
  "kernelspec": {
   "display_name": "mistral_env2",
   "language": "python",
   "name": "python3"
  },
  "language_info": {
   "codemirror_mode": {
    "name": "ipython",
    "version": 3
   },
   "file_extension": ".py",
   "mimetype": "text/x-python",
   "name": "python",
   "nbconvert_exporter": "python",
   "pygments_lexer": "ipython3",
   "version": "3.11.10"
  }
 },
 "nbformat": 4,
 "nbformat_minor": 2
}
