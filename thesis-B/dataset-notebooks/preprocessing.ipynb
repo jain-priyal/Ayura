{
 "cells": [
  {
   "cell_type": "code",
   "execution_count": 4,
   "metadata": {},
   "outputs": [],
   "source": [
    "import pandas as pd\n",
    "import re\n",
    "import json"
   ]
  },
  {
   "cell_type": "code",
   "execution_count": 2,
   "metadata": {},
   "outputs": [],
   "source": [
    "def clean_text(text):\n",
    "    if pd.isna(text):\n",
    "        return \"\"\n",
    "    text = re.sub(r\"[^a-zA-Z0-9.,\\-\\s]\", \"\", text)  \n",
    "    text = re.sub(r\"\\s+\", \" \", text).strip() \n",
    "    return text"
   ]
  },
  {
   "cell_type": "code",
   "execution_count": 3,
   "metadata": {},
   "outputs": [],
   "source": [
    "def preprocess_dataset(file_path, output_path):\n",
    "    df = pd.read_csv(file_path)\n",
    "\n",
    "    df[\"instruction\"] = df[\"instruction\"].apply(clean_text)\n",
    "    df[\"input\"] = df[\"input\"].apply(clean_text)\n",
    "    df[\"output\"] = df[\"output\"].apply(clean_text)\n",
    "\n",
    "    df[\"output\"] = df[\"output\"].apply(\n",
    "        lambda x: x if x.startswith(\"According to\") else \"According to research, \" + x\n",
    "    )\n",
    "\n",
    "    df = df.drop_duplicates()\n",
    "\n",
    "    df.to_csv(output_path, index=False)\n",
    "    print(f\"Preprocessed dataset saved to {output_path}\")"
   ]
  },
  {
   "cell_type": "code",
   "execution_count": 5,
   "metadata": {},
   "outputs": [
    {
     "name": "stdout",
     "output_type": "stream",
     "text": [
      "Preprocessed dataset saved to /Users/priyal/Documents/honours/datasets/qa_dataset_cleaned.csv\n"
     ]
    }
   ],
   "source": [
    "preprocess_dataset(\n",
    "    \"/Users/priyal/Documents/honours/datasets/qa_dataset_big.csv\",\n",
    "    \"/Users/priyal/Documents/honours/datasets/qa_dataset_cleaned.csv\",\n",
    ")"
   ]
  },
  {
   "cell_type": "code",
   "execution_count": 5,
   "metadata": {},
   "outputs": [],
   "source": [
    "def csv_to_json(csv_path, json_path):\n",
    "    df = pd.read_csv(csv_path)\n",
    "\n",
    "    records = df.to_dict(orient=\"records\")\n",
    "\n",
    "    with open(json_path, \"w\", encoding=\"utf-8\") as f:\n",
    "        json.dump(records, f, indent=4, ensure_ascii=False)\n",
    "\n",
    "    print(f\"Converted dataset saved to {json_path}\")"
   ]
  },
  {
   "cell_type": "code",
   "execution_count": 6,
   "metadata": {},
   "outputs": [
    {
     "name": "stdout",
     "output_type": "stream",
     "text": [
      "Converted dataset saved to /Users/priyal/Documents/honours/json/qa_dataset_cleaned.json\n"
     ]
    }
   ],
   "source": [
    "csv_to_json(\n",
    "    \"/Users/priyal/Documents/honours/datasets/qa_dataset_cleaned.csv\",\n",
    "    \"/Users/priyal/Documents/honours/json/qa_dataset_cleaned.json\",\n",
    ")"
   ]
  },
  {
   "cell_type": "code",
   "execution_count": 9,
   "metadata": {},
   "outputs": [
    {
     "name": "stdout",
     "output_type": "stream",
     "text": [
      "instruction    object\n",
      "input          object\n",
      "output         object\n",
      "dtype: object\n"
     ]
    }
   ],
   "source": [
    "df = pd.read_json(\"/Users/priyal/Documents/honours/json/qa_dataset_cleaned.json\")\n",
    "print(df.dtypes)"
   ]
  },
  {
   "cell_type": "code",
   "execution_count": null,
   "metadata": {},
   "outputs": [],
   "source": []
  }
 ],
 "metadata": {
  "kernelspec": {
   "display_name": "Python 3",
   "language": "python",
   "name": "python3"
  },
  "language_info": {
   "codemirror_mode": {
    "name": "ipython",
    "version": 3
   },
   "file_extension": ".py",
   "mimetype": "text/x-python",
   "name": "python",
   "nbconvert_exporter": "python",
   "pygments_lexer": "ipython3",
   "version": "3.10.4"
  }
 },
 "nbformat": 4,
 "nbformat_minor": 2
}
