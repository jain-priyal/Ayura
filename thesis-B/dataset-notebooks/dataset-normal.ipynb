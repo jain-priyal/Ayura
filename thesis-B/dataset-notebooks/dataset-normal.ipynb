{
 "cells": [
  {
   "cell_type": "code",
   "execution_count": 5,
   "metadata": {},
   "outputs": [],
   "source": [
    "import openai\n",
    "import pandas as pd\n",
    "from concurrent.futures import ThreadPoolExecutor\n",
    "from dotenv import load_dotenv\n",
    "import os"
   ]
  },
  {
   "cell_type": "code",
   "execution_count": 20,
   "metadata": {},
   "outputs": [],
   "source": [
    "load_dotenv(\"/Users/priyal/Documents/honours/.env/key.env\")\n",
    "openai.api_key = os.getenv(\"OPENAI_API_KEY\")"
   ]
  },
  {
   "cell_type": "code",
   "execution_count": 21,
   "metadata": {},
   "outputs": [],
   "source": [
    "def generate_question(abstract):\n",
    "    prompt = (\n",
    "        \"Based on the following abstract, generate a simple and natural-sounding \"\n",
    "        \"question that an average person might ask to get practical health advice. \"\n",
    "        \"Avoid technical or research-specific phrasing.\\n\\n\"\n",
    "        f\"Abstract: {abstract}\\n\\n\"\n",
    "        \"Example questions:\\n\"\n",
    "        \"- What are some natural ways to relieve joint pain?\\n\"\n",
    "        \"- How can Ayurveda help with digestion problems?\\n\"\n",
    "        \"- What herbs are good for reducing stress?\\n\\n\"\n",
    "        \"Generate a similar question based on the abstract above.\"\n",
    "    )\n",
    "\n",
    "    try:\n",
    "        client = openai.OpenAI()\n",
    "        response = client.chat.completions.create(\n",
    "            model=\"gpt-4\",\n",
    "            messages=[{\"role\": \"user\", \"content\": prompt}],\n",
    "            temperature=0.7,\n",
    "            max_tokens=50,\n",
    "        )\n",
    "        question = response.choices[0].message.content.strip()\n",
    "        return question\n",
    "    except Exception as e:\n",
    "        print(f\"Error generating question: {e}\")\n",
    "        return None"
   ]
  },
  {
   "cell_type": "code",
   "execution_count": 22,
   "metadata": {},
   "outputs": [],
   "source": [
    "def generate_answer(abstract, title):\n",
    "\n",
    "    prompt = (\n",
    "        \"Based on the following abstract, extract the key Ayurvedic remedy information \"\n",
    "        \"that answers potential user queries. Include the research paper title as a citation \"\n",
    "        \"in the answer in the following format: 'According to [Paper Title], ...'.\\n\\n\"\n",
    "        f\"Abstract: {abstract}\\n\\nPaper Title: {title}\\n\\nAnswer:\"\n",
    "    )\n",
    "    try:\n",
    "        client = openai.OpenAI()\n",
    "        response = client.chat.completions.create(\n",
    "            model=\"gpt-4\",\n",
    "            messages=[{\"role\": \"user\", \"content\": prompt}],\n",
    "            temperature=0.7,\n",
    "            max_tokens=150,\n",
    "        )\n",
    "        answer = response.choices[0].message.content.strip()\n",
    "        return answer\n",
    "    except Exception as e:\n",
    "        print(f\"Error generating answer: {e}\")\n",
    "        return None"
   ]
  },
  {
   "cell_type": "code",
   "execution_count": 23,
   "metadata": {},
   "outputs": [],
   "source": [
    "# def paraphrase_text(text):\n",
    "#     \"\"\"\n",
    "#     Uses GPT-4 to paraphrase text, which is useful for data augmentation.\n",
    "#     \"\"\"\n",
    "#     prompt = (\n",
    "#         \"Paraphrase the following text to create a variation in phrasing while keeping \"\n",
    "#         \"the meaning intact:\\n\\n\"\n",
    "#         f\"{text}\\n\\nParaphrased version:\"\n",
    "#     )\n",
    "#     try:\n",
    "#         response = openai.ChatCompletion.create(\n",
    "#             model=\"gpt-4\",\n",
    "#             messages=[{\"role\": \"user\", \"content\": prompt}],\n",
    "#             temperature=0.8,\n",
    "#             max_tokens=150,\n",
    "#         )\n",
    "#         paraphrased = response.choices[0].message[\"content\"].strip()\n",
    "#         return paraphrased\n",
    "#     except Exception as e:\n",
    "#         print(f\"Error paraphrasing text: {e}\")\n",
    "#         return None"
   ]
  },
  {
   "cell_type": "code",
   "execution_count": 24,
   "metadata": {},
   "outputs": [],
   "source": [
    "# def augment_example(instruction, output):\n",
    "#     \"\"\"\n",
    "#     Creates an augmented example by paraphrasing the question (instruction) and the answer (output).\n",
    "#     \"\"\"\n",
    "#     augmented_instruction = paraphrase_text(instruction)\n",
    "#     augmented_output = paraphrase_text(output)\n",
    "#     return augmented_instruction, augmented_output"
   ]
  },
  {
   "cell_type": "code",
   "execution_count": 25,
   "metadata": {},
   "outputs": [],
   "source": [
    "def main(input_csv, output_csv):\n",
    "   \n",
    "    df = pd.read_csv(input_csv)\n",
    "    df = df.dropna(subset=[\"Abstract\"])\n",
    "    df = df.head(8137)  \n",
    "\n",
    "    dataset = [] \n",
    "\n",
    "    for index, row in df.iterrows():\n",
    "        title = row[\"Title\"]\n",
    "        abstract = row[\"Abstract\"]\n",
    "\n",
    "        question = generate_question(abstract)\n",
    "        if not question:\n",
    "            continue\n",
    "\n",
    "        answer = generate_answer(abstract, title)\n",
    "        if not answer:\n",
    "            continue\n",
    "\n",
    "        example = {\"instruction\": question, \"input\": abstract, \"output\": answer}\n",
    "        dataset.append(example)\n",
    "\n",
    "    print(f\"Processed {len(dataset)} QA pairs\")\n",
    "    return dataset  "
   ]
  },
  {
   "cell_type": "code",
   "execution_count": 26,
   "metadata": {},
   "outputs": [
    {
     "name": "stdout",
     "output_type": "stream",
     "text": [
      "Error generating question: Connection error.\n",
      "Error generating question: Connection error.\n",
      "Error generating question: Connection error.\n",
      "Error generating question: Connection error.\n",
      "Error generating question: Connection error.\n",
      "Error generating question: Connection error.\n",
      "Error generating question: Connection error.\n",
      "Error generating question: Connection error.\n",
      "Error generating question: Connection error.\n",
      "Error generating question: Connection error.\n",
      "Error generating question: Connection error.\n",
      "Error generating question: Connection error.\n",
      "Error generating question: Connection error.\n",
      "Error generating question: Connection error.\n",
      "Error generating question: Connection error.\n",
      "Error generating question: Connection error.\n",
      "Error generating question: Connection error.\n",
      "Error generating question: Connection error.\n",
      "Error generating question: Connection error.\n",
      "Error generating question: Connection error.\n",
      "Error generating question: Connection error.\n",
      "Error generating question: Connection error.\n",
      "Error generating question: Connection error.\n",
      "Error generating question: Connection error.\n",
      "Error generating question: Connection error.\n",
      "Error generating question: Connection error.\n",
      "Error generating question: Connection error.\n",
      "Error generating question: Connection error.\n",
      "Error generating question: Connection error.\n",
      "Error generating question: Connection error.\n",
      "Error generating question: Connection error.\n",
      "Error generating question: Connection error.\n",
      "Error generating question: Connection error.\n",
      "Error generating question: Connection error.\n",
      "Error generating question: Connection error.\n",
      "Error generating question: Connection error.\n",
      "Error generating question: Connection error.\n",
      "Error generating question: Connection error.\n",
      "Error generating question: Connection error.\n",
      "Error generating question: Connection error.\n",
      "Error generating question: Connection error.\n",
      "Error generating question: Connection error.\n",
      "Error generating question: Connection error.\n",
      "Error generating question: Connection error.\n",
      "Error generating question: Connection error.\n",
      "Error generating question: Connection error.\n",
      "Error generating question: Connection error.\n",
      "Error generating question: Connection error.\n",
      "Error generating question: Connection error.\n",
      "Error generating question: Connection error.\n",
      "Error generating question: Connection error.\n",
      "Error generating question: Connection error.\n",
      "Error generating question: Connection error.\n",
      "Error generating question: Connection error.\n",
      "Error generating question: Connection error.\n",
      "Error generating question: Connection error.\n",
      "Error generating question: Connection error.\n",
      "Processed 7716 QA pairs\n"
     ]
    }
   ],
   "source": [
    "input_csv = \"/Users/priyal/Documents/honours/datasets/extracted_papers_info.csv\"\n",
    "output_csv = \"/Users/priyal/Documents/honours/datasets/qa_dataset_bigger_normal.csv\"\n",
    "\n",
    "dataset = main(input_csv, output_csv)"
   ]
  },
  {
   "cell_type": "code",
   "execution_count": 27,
   "metadata": {},
   "outputs": [
    {
     "name": "stdout",
     "output_type": "stream",
     "text": [
      "QA dataset saved to /Users/priyal/Documents/honours/datasets/qa_dataset_bigger_normal.csv\n"
     ]
    }
   ],
   "source": [
    "dataset_df = pd.DataFrame(dataset)  \n",
    "dataset_df.to_csv(output_csv, index=False)\n",
    "print(f\"QA dataset saved to {output_csv}\")"
   ]
  }
 ],
 "metadata": {
  "kernelspec": {
   "display_name": "mistral_env2",
   "language": "python",
   "name": "python3"
  },
  "language_info": {
   "codemirror_mode": {
    "name": "ipython",
    "version": 3
   },
   "file_extension": ".py",
   "mimetype": "text/x-python",
   "name": "python",
   "nbconvert_exporter": "python",
   "pygments_lexer": "ipython3",
   "version": "3.11.10"
  }
 },
 "nbformat": 4,
 "nbformat_minor": 2
}
