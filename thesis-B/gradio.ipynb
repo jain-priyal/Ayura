{
 "cells": [
  {
   "cell_type": "code",
   "execution_count": 10,
   "id": "d985e04e",
   "metadata": {},
   "outputs": [],
   "source": [
    "import os\n",
    "import gradio as gr\n",
    "from openai import OpenAI\n",
    "from dotenv import load_dotenv"
   ]
  },
  {
   "cell_type": "code",
   "execution_count": 11,
   "id": "13f8e553",
   "metadata": {},
   "outputs": [],
   "source": [
    "load_dotenv(dotenv_path=\"/Users/priyal/Documents/honours/.env/key.env\")\n",
    "api_key = os.getenv(\"OPENAI_API_KEY\")"
   ]
  },
  {
   "cell_type": "code",
   "execution_count": 12,
   "id": "84c95055",
   "metadata": {},
   "outputs": [],
   "source": [
    "client = OpenAI(api_key=api_key)"
   ]
  },
  {
   "cell_type": "code",
   "execution_count": null,
   "id": "9efd092a",
   "metadata": {},
   "outputs": [],
   "source": [
    "FINE_TUNED_MODELS = {\n",
    "    \"Normal\": \"\",\n",
    "    \"20-year-old female\": \"\",\n",
    "    \"65-year-old female\":\"\",\n",
    "}"
   ]
  },
  {
   "cell_type": "code",
   "execution_count": 14,
   "id": "77a6adc9",
   "metadata": {},
   "outputs": [],
   "source": [
    "def chat_with_persona(question, persona):\n",
    "    try:\n",
    "        model_id = FINE_TUNED_MODELS[persona]\n",
    "        stream = client.chat.completions.create(\n",
    "            model=model_id,\n",
    "            messages=[\n",
    "                {\"role\": \"system\", \"content\": \"You are an expert Ayurvedic assistant.\"},\n",
    "                {\"role\": \"user\", \"content\": question},\n",
    "            ],\n",
    "            temperature=0.7,\n",
    "            stream=True, \n",
    "        )\n",
    "        output = \"\"\n",
    "        for chunk in stream:\n",
    "            if chunk.choices[0].delta.content:\n",
    "                output += chunk.choices[0].delta.content\n",
    "                yield output\n",
    "    except Exception as e:\n",
    "        yield f\"❌ Error: {str(e)}\""
   ]
  },
  {
   "cell_type": "code",
   "execution_count": 18,
   "id": "cbae663a",
   "metadata": {},
   "outputs": [],
   "source": [
    "def compare_all(question):\n",
    "    responses = {}\n",
    "    for persona, model_id in FINE_TUNED_MODELS.items():\n",
    "        try:\n",
    "            stream = client.chat.completions.create(\n",
    "                model=model_id,\n",
    "                messages=[\n",
    "                    {\n",
    "                        \"role\": \"system\",\n",
    "                        \"content\": \"You are an expert Ayurvedic assistant.\",\n",
    "                    },\n",
    "                    {\"role\": \"user\", \"content\": question},\n",
    "                ],\n",
    "                temperature=0.7,\n",
    "                stream=True,\n",
    "            )\n",
    "            output = \"\"\n",
    "            for chunk in stream:\n",
    "                if chunk.choices[0].delta.content:\n",
    "                    output += chunk.choices[0].delta.content\n",
    "            responses[persona] = output\n",
    "        except Exception as e:\n",
    "            responses[persona] = f\"❌ Error: {str(e)}\"\n",
    "    return (\n",
    "        responses[\"Normal\"],\n",
    "        responses[\"20-year-old female\"],\n",
    "        responses[\"65-year-old female\"],\n",
    "    )"
   ]
  },
  {
   "cell_type": "code",
   "execution_count": 19,
   "id": "3d0c8b37",
   "metadata": {},
   "outputs": [
    {
     "name": "stdout",
     "output_type": "stream",
     "text": [
      "* Running on local URL:  http://127.0.0.1:7862\n",
      "* To create a public link, set `share=True` in `launch()`.\n"
     ]
    },
    {
     "data": {
      "text/html": [
       "<div><iframe src=\"http://127.0.0.1:7862/\" width=\"100%\" height=\"500\" allow=\"autoplay; camera; microphone; clipboard-read; clipboard-write;\" frameborder=\"0\" allowfullscreen></iframe></div>"
      ],
      "text/plain": [
       "<IPython.core.display.HTML object>"
      ]
     },
     "metadata": {},
     "output_type": "display_data"
    },
    {
     "data": {
      "text/plain": []
     },
     "execution_count": 19,
     "metadata": {},
     "output_type": "execute_result"
    }
   ],
   "source": [
    "with gr.Blocks(title=\"Ayurveda Chatbot Demo\") as demo:\n",
    "    gr.Markdown(\"##  Ayurveda Chatbot Demo\")\n",
    "    gr.Markdown(\n",
    "        \"Select a user persona and ask a question to see how your fine-tuned model responds.\"\n",
    "    )\n",
    "\n",
    "    persona = gr.Radio(\n",
    "        choices=[\"Normal\", \"20-year-old female\", \"65-year-old female\"],\n",
    "        label=\"Select Persona\",\n",
    "        value=\"Normal\",\n",
    "    )\n",
    "\n",
    "    question = gr.Textbox(\n",
    "        label=\"Your Question\", placeholder=\"e.g., What herbs help with digestion?\"\n",
    "    )\n",
    "    output = gr.Textbox(label=\"Chatbot Response\", lines=10)\n",
    "\n",
    "    submit_btn = gr.Button(\"Get Answer\")\n",
    "    submit_btn.click(fn=chat_with_persona, inputs=[question, persona], outputs=output)\n",
    "\n",
    "demo.launch()"
   ]
  }
 ],
 "metadata": {
  "kernelspec": {
   "display_name": "mistral_env2",
   "language": "python",
   "name": "python3"
  },
  "language_info": {
   "codemirror_mode": {
    "name": "ipython",
    "version": 3
   },
   "file_extension": ".py",
   "mimetype": "text/x-python",
   "name": "python",
   "nbconvert_exporter": "python",
   "pygments_lexer": "ipython3",
   "version": "3.11.10"
  }
 },
 "nbformat": 4,
 "nbformat_minor": 5
}
