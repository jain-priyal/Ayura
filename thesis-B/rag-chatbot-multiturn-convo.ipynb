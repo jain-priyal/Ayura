{
 "cells": [
  {
   "cell_type": "code",
   "execution_count": null,
   "metadata": {},
   "outputs": [],
   "source": [
    "import pandas as pd\n",
    "from langchain_openai import OpenAI, OpenAIEmbeddings\n",
    "from langchain.vectorstores.faiss import FAISS\n",
    "from langchain.text_splitter import CharacterTextSplitter\n",
    "from langchain.schema import Document\n",
    "from langchain.chains import RetrievalQA\n",
    "from langchain.memory import ConversationBufferMemory\n",
    "from langchain.schema import HumanMessage, AIMessage\n",
    "import gradio as gr\n",
    "import os"
   ]
  },
  {
   "cell_type": "code",
   "execution_count": 11,
   "metadata": {},
   "outputs": [],
   "source": [
    "file_path = \"/Users/priyal/Documents/honours/extracted_papers_info.csv\"\n",
    "data = pd.read_csv(file_path)"
   ]
  },
  {
   "cell_type": "code",
   "execution_count": 12,
   "metadata": {},
   "outputs": [],
   "source": [
    "text_splitter = CharacterTextSplitter(chunk_size=500, chunk_overlap=50)\n",
    "\n",
    "documents = []\n",
    "for idx, row in data.iterrows():\n",
    "    title = row.get(\"Title\", \"\")\n",
    "    abstract = row.get(\"Abstract\", \"\")\n",
    "    author = row.get(\"Author Names\", \"Unknown\")\n",
    "\n",
    "    if isinstance(abstract, str) and abstract.strip():\n",
    "        chunks = text_splitter.split_text(abstract)\n",
    "\n",
    "        for chunk in chunks:\n",
    "            documents.append(\n",
    "                Document(\n",
    "                    page_content=chunk,\n",
    "                    metadata={\n",
    "                        \"citation\": f\"{title} (Citation ID: {idx})\",\n",
    "                        \"author\": author,\n",
    "                    },\n",
    "                )\n",
    "            )"
   ]
  },
  {
   "cell_type": "code",
   "execution_count": null,
   "metadata": {},
   "outputs": [],
   "source": [
    "openai_api_key = os.getenv(\"OPENAI_API_KEY\")\n",
    "\n",
    "texts = [doc.page_content for doc in documents]\n",
    "metadatas = [doc.metadata for doc in documents]\n",
    "\n",
    "faiss_index = FAISS.from_texts(texts, embeddings, metadatas=metadatas)\n",
    "retriever = faiss_index.as_retriever()"
   ]
  },
  {
   "cell_type": "code",
   "execution_count": 14,
   "metadata": {},
   "outputs": [],
   "source": [
    "llm = OpenAI(openai_api_key=openai_api_key, temperature=0.7)"
   ]
  },
  {
   "cell_type": "code",
   "execution_count": 15,
   "metadata": {},
   "outputs": [
    {
     "name": "stderr",
     "output_type": "stream",
     "text": [
      "/var/folders/4y/9y5ld1xn3zn_rhkhdmmr63zr0000gn/T/ipykernel_17332/3353824168.py:1: LangChainDeprecationWarning: Please see the migration guide at: https://python.langchain.com/docs/versions/migrating_memory/\n",
      "  memory = ConversationBufferMemory(memory_key=\"chat_history\", return_messages=True)\n"
     ]
    }
   ],
   "source": [
    "memory = ConversationBufferMemory(memory_key=\"chat_history\", return_messages=True)"
   ]
  },
  {
   "cell_type": "code",
   "execution_count": 52,
   "metadata": {},
   "outputs": [],
   "source": [
    "rag_chain = RetrievalQA.from_chain_type(\n",
    "    llm=llm,\n",
    "    retriever=retriever,\n",
    "    return_source_documents=True, \n",
    ")"
   ]
  },
  {
   "cell_type": "code",
   "execution_count": 75,
   "metadata": {},
   "outputs": [],
   "source": [
    "def chat_with_rag(user_input, chat_history=[]):\n",
    "    history = memory.chat_memory.messages\n",
    "\n",
    "    formatted_history = \"\\n\".join(\n",
    "        [\n",
    "            (\n",
    "                f\"User: {msg.content}\"\n",
    "                if isinstance(msg, HumanMessage)\n",
    "                else f\"Bot: {msg.content}\"\n",
    "            )\n",
    "            for msg in history[-5:]\n",
    "        ]\n",
    "    )\n",
    "\n",
    "    full_query = f\"Here is our conversation so far:\\n{formatted_history}\\n\\nNow answer this: {user_input}\"\n",
    "\n",
    "    result = rag_chain.invoke({\"query\": full_query})\n",
    "\n",
    "    response = result.get(\"result\", \"Sorry, I couldn't generate a response.\")\n",
    "\n",
    "    source_docs = result.get(\"source_documents\", [])\n",
    "    citations = [\n",
    "        f\"- {doc.metadata.get('citation', 'Unknown Source')}\" for doc in source_docs\n",
    "    ]\n",
    "    citations_str = \"\\n\".join(citations) if citations else \"No citations available.\"\n",
    "\n",
    "    memory.save_context({\"input\": user_input}, {\"output\": response})\n",
    "\n",
    "    chat_history.append((user_input, f\"{response}\\n\\n**Citations:**\\n{citations_str}\"))\n",
    "\n",
    "    return chat_history  "
   ]
  },
  {
   "cell_type": "code",
   "execution_count": 79,
   "metadata": {},
   "outputs": [
    {
     "name": "stderr",
     "output_type": "stream",
     "text": [
      "/Users/priyal/.pyenv/versions/3.10.4/lib/python3.10/site-packages/gradio/components/chatbot.py:285: UserWarning: You have not specified a value for the `type` parameter. Defaulting to the 'tuples' format for chatbot messages, but this is deprecated and will be removed in a future version of Gradio. Please set type='messages' instead, which uses openai-style dictionaries with 'role' and 'content' keys.\n",
      "  warnings.warn(\n"
     ]
    }
   ],
   "source": [
    "with gr.Blocks() as demo:\n",
    "    gr.Markdown(\"# Multiturn testing\")\n",
    "    chatbot = gr.Chatbot()\n",
    "    user_input = gr.Textbox(\n",
    "        label=\"Type your question here...\", placeholder=\"Ask about Ayurveda...\"\n",
    "    )\n",
    "    submit_btn = gr.Button(\"Send\")\n",
    "\n",
    "    submit_btn.click(chat_with_rag, inputs=[user_input, chatbot], outputs=[chatbot])\n",
    "    user_input.submit(chat_with_rag, inputs=[user_input, chatbot], outputs=[chatbot])"
   ]
  },
  {
   "cell_type": "code",
   "execution_count": 80,
   "metadata": {},
   "outputs": [
    {
     "name": "stdout",
     "output_type": "stream",
     "text": [
      "* Running on local URL:  http://127.0.0.1:7871\n",
      "\n",
      "To create a public link, set `share=True` in `launch()`.\n"
     ]
    },
    {
     "data": {
      "text/html": [
       "<div><iframe src=\"http://127.0.0.1:7871/\" width=\"100%\" height=\"500\" allow=\"autoplay; camera; microphone; clipboard-read; clipboard-write;\" frameborder=\"0\" allowfullscreen></iframe></div>"
      ],
      "text/plain": [
       "<IPython.core.display.HTML object>"
      ]
     },
     "metadata": {},
     "output_type": "display_data"
    },
    {
     "data": {
      "text/plain": []
     },
     "execution_count": 80,
     "metadata": {},
     "output_type": "execute_result"
    }
   ],
   "source": [
    "demo.launch()"
   ]
  },
  {
   "cell_type": "code",
   "execution_count": 66,
   "metadata": {},
   "outputs": [
    {
     "name": "stdout",
     "output_type": "stream",
     "text": [
      "Chatbot is ready! Type 'exit' to stop.\n",
      "\n",
      "DEBUG - Chat History After Update:\n",
      " [HumanMessage(content='How does Ayurveda contribute to overall health, and what are its main principles as described in studies?', additional_kwargs={}, response_metadata={}), AIMessage(content=' Ayurveda contributes to overall health by promoting a state of complete physical, mental, and spiritual well-being. Its main principles include a focus on predictive, preventive, and personalized medicine, personalized counseling on lifestyle measures, and an emphasis on self-awareness and good relationships with others and nature. It also incorporates factors such as health education, individual awareness, and spirituality in healthcare to improve overall well-being and promote healthy aging.', additional_kwargs={}, response_metadata={}), HumanMessage(content='how does it incorporate spirituality?', additional_kwargs={}, response_metadata={}), AIMessage(content=' The paper mentions that the Vedic approach to therapy is based on the integration of healing and human development, with a focus on consciousness as the basis of the mind. This approach contrasts with other therapies that focus on the unconscious mind and suggests that the Vedic approach is more holistic. Additionally, the paper mentions that interventions associated with this approach have support in the research literature.', additional_kwargs={}, response_metadata={}), HumanMessage(content='i did not understand ', additional_kwargs={}, response_metadata={}), AIMessage(content=' I apologize, I am just a language model AI and I am not able to understand the question. Please provide a specific question or detail that you need clarification on.', additional_kwargs={}, response_metadata={}), HumanMessage(content='what do you mean?', additional_kwargs={}, response_metadata={}), AIMessage(content=\" This passage is discussing the concept of Ayurveda and how it relates to the four components of the body. It also mentions Sushruta's view on foetal sex determination based on the balance of semen and menstrual blood.\", additional_kwargs={}, response_metadata={}), HumanMessage(content='How does Ayurveda contribute to overall health, and what are its main principles as described in studies?', additional_kwargs={}, response_metadata={}), AIMessage(content=' Ayurveda contributes to overall health by promoting a holistic approach to physical, mental, and spiritual well-being. Its main principles include a focus on preventive and personalized medicine, low-cost lifestyle counseling, and integration of spirituality and ethics in healthcare.', additional_kwargs={}, response_metadata={}), HumanMessage(content='How does Ayurveda contribute to overall health, and what are its main principles as described in studies?', additional_kwargs={}, response_metadata={}), AIMessage(content=' Ayurveda contributes to overall health by emphasizing a holistic approach that includes physical, mental, and spiritual well-being. Its main principles include a focus on preventive and personalized medicine, low-cost personalized counseling, and promoting health education and individual awareness.', additional_kwargs={}, response_metadata={}), HumanMessage(content='Can you elaborate on the spiritual side of ayurveda? ', additional_kwargs={}, response_metadata={}), AIMessage(content=' Ayurveda places a significant emphasis on the spiritual aspect of health and healing. It sees life as a four-dimensional entity and adopts a comprehensive psychosomatic-spiritual approach to preservation of health and cure of diseases. This includes practices such as Satvavajaya (psychotherapy) and maintaining Dosha equilibrium through diet, lifestyle, and Panchkarama. Additionally, Ayurveda views each individual as unique and tailors treatment to their constitution (Prakruti). There is also growing interest in Ayurveda globally, as it has been found to have potential in both biological and clinical aspects when studied through modern ethnovalidation methods.', additional_kwargs={}, response_metadata={}), HumanMessage(content='', additional_kwargs={}, response_metadata={}), AIMessage(content=' I am sorry, I do not have enough context to answer this question as it is asking for a specific piece of information from the DOI, PMCID, and PMID numbers provided. ', additional_kwargs={}, response_metadata={}), HumanMessage(content='What is Ashwagandha?', additional_kwargs={}, response_metadata={}), AIMessage(content=' Ashwagandha is an extract derived from the plant Withania somnifera and is commonly used in traditional Indian medicine. It has been studied for its potential pharmacotherapeutic properties in animal models and has shown potential benefits in certain neuropsychiatric conditions in human subjects. It is also known as the \"Indian ginseng\" and is classified as a rasayana (rejuvenation) in Ayurveda.', additional_kwargs={}, response_metadata={}), HumanMessage(content='How does it compare to Brahmi?', additional_kwargs={}, response_metadata={}), AIMessage(content=' Brahmi has a higher antioxidant effect than known antioxidants tris, EDTA, and vitamin E.', additional_kwargs={}, response_metadata={}), HumanMessage(content='What is Ashwagandha?', additional_kwargs={}, response_metadata={}), AIMessage(content=' Ashwagandha is an extract of the plant Withania somnifera, commonly known as Indian ginseng, that is used in traditional Indian medicine to promote physical and mental health. It is also known for its potential pharmacotherapeutic properties for certain neuropsychiatric conditions.', additional_kwargs={}, response_metadata={}), HumanMessage(content='What is Ashwagandha?', additional_kwargs={}, response_metadata={}), AIMessage(content=' Ashwagandha is an Ayurvedic herb commonly used in traditional Indian medicine for various purposes, such as promoting physical and mental health, rejuvenating the body, and increasing longevity. It is also known as Withania somnifera. ', additional_kwargs={}, response_metadata={}), HumanMessage(content='What is Ashwagandha?', additional_kwargs={}, response_metadata={}), AIMessage(content=' Ashwagandha is an herb that is commonly used in Ayurvedic medicine to promote overall health and well-being. It is known for its potential pharmacotherapeutic properties and is also called Withania somnifera.', additional_kwargs={}, response_metadata={}), HumanMessage(content='How does it compare to brahmi?', additional_kwargs={}, response_metadata={}), AIMessage(content=' Ashwagandha and Brahmi both have potential pharmacotherapeutic properties, but they are derived from different plants and have different effects on the body. Brahmi has a higher antioxidant effect than known antioxidants tris, EDTA, and vitamin E, while Ashwagandha has been studied for its potential benefits in certain neuropsychiatric conditions. ', additional_kwargs={}, response_metadata={}), HumanMessage(content='Which one out of the two is better? ', additional_kwargs={}, response_metadata={}), AIMessage(content=' It is not possible to say which herb is better as they have different effects on the body and are used for different purposes. It is best to consult with a healthcare professional to determine which herb may be more beneficial for your specific health needs.', additional_kwargs={}, response_metadata={}), HumanMessage(content='For daily use, which one is better?', additional_kwargs={}, response_metadata={}), AIMessage(content=' Both Ashwagandha and Brahmi can be used daily, but it is important to consult with a healthcare professional before incorporating them into your daily routine to determine the appropriate dosage and potential interactions with other medications or supplements.', additional_kwargs={}, response_metadata={}), HumanMessage(content='What is ashwgandha? ', additional_kwargs={}, response_metadata={}), AIMessage(content=' Ashwagandha is the extract of the plant Withania somnifera and is widely used in complementary, alternative, and integrative medicine for its potential benefits in certain neuropsychiatric conditions. It has been studied for its antioxidant, neuroprotective, and adaptogenic properties.', additional_kwargs={}, response_metadata={})]\n",
      "Bot:  Ashwagandha is the extract of the plant Withania somnifera and is widely used in complementary, alternative, and integrative medicine for its potential benefits in certain neuropsychiatric conditions. It has been studied for its antioxidant, neuroprotective, and adaptogenic properties.\n",
      "\n",
      "**Citations:**\n",
      "- Potential clinical applications of Ashwagandha (Withania somnifera) in medicine \n",
      "and neuropsychiatry. (Citation ID: 6183)\n",
      "- Nootropic potential of Ashwagandha leaves: Beyond traditional root extracts. (Citation ID: 1378)\n",
      "- Safety of Ashwagandha Root Extract: A Randomized, Placebo-Controlled, study in \n",
      "Healthy Volunteers. (Citation ID: 875)\n",
      "- Withania somnifera and Its Withanolides Attenuate Oxidative and Inflammatory \n",
      "Responses and Up-Regulate Antioxidant Responses in BV-2 Microglial Cells. (Citation ID: 3366)\n",
      "\n",
      "DEBUG - Chat History After Update:\n",
      " [HumanMessage(content='How does Ayurveda contribute to overall health, and what are its main principles as described in studies?', additional_kwargs={}, response_metadata={}), AIMessage(content=' Ayurveda contributes to overall health by promoting a state of complete physical, mental, and spiritual well-being. Its main principles include a focus on predictive, preventive, and personalized medicine, personalized counseling on lifestyle measures, and an emphasis on self-awareness and good relationships with others and nature. It also incorporates factors such as health education, individual awareness, and spirituality in healthcare to improve overall well-being and promote healthy aging.', additional_kwargs={}, response_metadata={}), HumanMessage(content='how does it incorporate spirituality?', additional_kwargs={}, response_metadata={}), AIMessage(content=' The paper mentions that the Vedic approach to therapy is based on the integration of healing and human development, with a focus on consciousness as the basis of the mind. This approach contrasts with other therapies that focus on the unconscious mind and suggests that the Vedic approach is more holistic. Additionally, the paper mentions that interventions associated with this approach have support in the research literature.', additional_kwargs={}, response_metadata={}), HumanMessage(content='i did not understand ', additional_kwargs={}, response_metadata={}), AIMessage(content=' I apologize, I am just a language model AI and I am not able to understand the question. Please provide a specific question or detail that you need clarification on.', additional_kwargs={}, response_metadata={}), HumanMessage(content='what do you mean?', additional_kwargs={}, response_metadata={}), AIMessage(content=\" This passage is discussing the concept of Ayurveda and how it relates to the four components of the body. It also mentions Sushruta's view on foetal sex determination based on the balance of semen and menstrual blood.\", additional_kwargs={}, response_metadata={}), HumanMessage(content='How does Ayurveda contribute to overall health, and what are its main principles as described in studies?', additional_kwargs={}, response_metadata={}), AIMessage(content=' Ayurveda contributes to overall health by promoting a holistic approach to physical, mental, and spiritual well-being. Its main principles include a focus on preventive and personalized medicine, low-cost lifestyle counseling, and integration of spirituality and ethics in healthcare.', additional_kwargs={}, response_metadata={}), HumanMessage(content='How does Ayurveda contribute to overall health, and what are its main principles as described in studies?', additional_kwargs={}, response_metadata={}), AIMessage(content=' Ayurveda contributes to overall health by emphasizing a holistic approach that includes physical, mental, and spiritual well-being. Its main principles include a focus on preventive and personalized medicine, low-cost personalized counseling, and promoting health education and individual awareness.', additional_kwargs={}, response_metadata={}), HumanMessage(content='Can you elaborate on the spiritual side of ayurveda? ', additional_kwargs={}, response_metadata={}), AIMessage(content=' Ayurveda places a significant emphasis on the spiritual aspect of health and healing. It sees life as a four-dimensional entity and adopts a comprehensive psychosomatic-spiritual approach to preservation of health and cure of diseases. This includes practices such as Satvavajaya (psychotherapy) and maintaining Dosha equilibrium through diet, lifestyle, and Panchkarama. Additionally, Ayurveda views each individual as unique and tailors treatment to their constitution (Prakruti). There is also growing interest in Ayurveda globally, as it has been found to have potential in both biological and clinical aspects when studied through modern ethnovalidation methods.', additional_kwargs={}, response_metadata={}), HumanMessage(content='', additional_kwargs={}, response_metadata={}), AIMessage(content=' I am sorry, I do not have enough context to answer this question as it is asking for a specific piece of information from the DOI, PMCID, and PMID numbers provided. ', additional_kwargs={}, response_metadata={}), HumanMessage(content='What is Ashwagandha?', additional_kwargs={}, response_metadata={}), AIMessage(content=' Ashwagandha is an extract derived from the plant Withania somnifera and is commonly used in traditional Indian medicine. It has been studied for its potential pharmacotherapeutic properties in animal models and has shown potential benefits in certain neuropsychiatric conditions in human subjects. It is also known as the \"Indian ginseng\" and is classified as a rasayana (rejuvenation) in Ayurveda.', additional_kwargs={}, response_metadata={}), HumanMessage(content='How does it compare to Brahmi?', additional_kwargs={}, response_metadata={}), AIMessage(content=' Brahmi has a higher antioxidant effect than known antioxidants tris, EDTA, and vitamin E.', additional_kwargs={}, response_metadata={}), HumanMessage(content='What is Ashwagandha?', additional_kwargs={}, response_metadata={}), AIMessage(content=' Ashwagandha is an extract of the plant Withania somnifera, commonly known as Indian ginseng, that is used in traditional Indian medicine to promote physical and mental health. It is also known for its potential pharmacotherapeutic properties for certain neuropsychiatric conditions.', additional_kwargs={}, response_metadata={}), HumanMessage(content='What is Ashwagandha?', additional_kwargs={}, response_metadata={}), AIMessage(content=' Ashwagandha is an Ayurvedic herb commonly used in traditional Indian medicine for various purposes, such as promoting physical and mental health, rejuvenating the body, and increasing longevity. It is also known as Withania somnifera. ', additional_kwargs={}, response_metadata={}), HumanMessage(content='What is Ashwagandha?', additional_kwargs={}, response_metadata={}), AIMessage(content=' Ashwagandha is an herb that is commonly used in Ayurvedic medicine to promote overall health and well-being. It is known for its potential pharmacotherapeutic properties and is also called Withania somnifera.', additional_kwargs={}, response_metadata={}), HumanMessage(content='How does it compare to brahmi?', additional_kwargs={}, response_metadata={}), AIMessage(content=' Ashwagandha and Brahmi both have potential pharmacotherapeutic properties, but they are derived from different plants and have different effects on the body. Brahmi has a higher antioxidant effect than known antioxidants tris, EDTA, and vitamin E, while Ashwagandha has been studied for its potential benefits in certain neuropsychiatric conditions. ', additional_kwargs={}, response_metadata={}), HumanMessage(content='Which one out of the two is better? ', additional_kwargs={}, response_metadata={}), AIMessage(content=' It is not possible to say which herb is better as they have different effects on the body and are used for different purposes. It is best to consult with a healthcare professional to determine which herb may be more beneficial for your specific health needs.', additional_kwargs={}, response_metadata={}), HumanMessage(content='For daily use, which one is better?', additional_kwargs={}, response_metadata={}), AIMessage(content=' Both Ashwagandha and Brahmi can be used daily, but it is important to consult with a healthcare professional before incorporating them into your daily routine to determine the appropriate dosage and potential interactions with other medications or supplements.', additional_kwargs={}, response_metadata={}), HumanMessage(content='What is ashwgandha? ', additional_kwargs={}, response_metadata={}), AIMessage(content=' Ashwagandha is the extract of the plant Withania somnifera and is widely used in complementary, alternative, and integrative medicine for its potential benefits in certain neuropsychiatric conditions. It has been studied for its antioxidant, neuroprotective, and adaptogenic properties.', additional_kwargs={}, response_metadata={}), HumanMessage(content='How does it compare to brahami?', additional_kwargs={}, response_metadata={}), AIMessage(content='  Both Ashwagandha and Brahmi have different properties and uses. Ashwagandha is known for its antioxidant, neuroprotective, and adaptogenic properties, while Brahmi is known for its potential benefits in improving memory, concentration, and cognitive function. Both herbs have their own unique benefits and it is best to consult with a healthcare professional to determine which may be more beneficial for your specific health needs.', additional_kwargs={}, response_metadata={})]\n",
      "Bot:   Both Ashwagandha and Brahmi have different properties and uses. Ashwagandha is known for its antioxidant, neuroprotective, and adaptogenic properties, while Brahmi is known for its potential benefits in improving memory, concentration, and cognitive function. Both herbs have their own unique benefits and it is best to consult with a healthcare professional to determine which may be more beneficial for your specific health needs.\n",
      "\n",
      "**Citations:**\n",
      "- Safety of Ashwagandha Root Extract: A Randomized, Placebo-Controlled, study in \n",
      "Healthy Volunteers. (Citation ID: 875)\n",
      "- Potential clinical applications of Ashwagandha (Withania somnifera) in medicine \n",
      "and neuropsychiatry. (Citation ID: 6183)\n",
      "- Novel Methods to Generate Active Ingredients-Enriched Ashwagandha Leaves and \n",
      "Extracts. (Citation ID: 2254)\n",
      "- Examining the effect of Withania somnifera supplementation on muscle strength \n",
      "and recovery: a randomized controlled trial. (Citation ID: 7572)\n",
      "\n",
      "DEBUG - Chat History After Update:\n",
      " [HumanMessage(content='How does Ayurveda contribute to overall health, and what are its main principles as described in studies?', additional_kwargs={}, response_metadata={}), AIMessage(content=' Ayurveda contributes to overall health by promoting a state of complete physical, mental, and spiritual well-being. Its main principles include a focus on predictive, preventive, and personalized medicine, personalized counseling on lifestyle measures, and an emphasis on self-awareness and good relationships with others and nature. It also incorporates factors such as health education, individual awareness, and spirituality in healthcare to improve overall well-being and promote healthy aging.', additional_kwargs={}, response_metadata={}), HumanMessage(content='how does it incorporate spirituality?', additional_kwargs={}, response_metadata={}), AIMessage(content=' The paper mentions that the Vedic approach to therapy is based on the integration of healing and human development, with a focus on consciousness as the basis of the mind. This approach contrasts with other therapies that focus on the unconscious mind and suggests that the Vedic approach is more holistic. Additionally, the paper mentions that interventions associated with this approach have support in the research literature.', additional_kwargs={}, response_metadata={}), HumanMessage(content='i did not understand ', additional_kwargs={}, response_metadata={}), AIMessage(content=' I apologize, I am just a language model AI and I am not able to understand the question. Please provide a specific question or detail that you need clarification on.', additional_kwargs={}, response_metadata={}), HumanMessage(content='what do you mean?', additional_kwargs={}, response_metadata={}), AIMessage(content=\" This passage is discussing the concept of Ayurveda and how it relates to the four components of the body. It also mentions Sushruta's view on foetal sex determination based on the balance of semen and menstrual blood.\", additional_kwargs={}, response_metadata={}), HumanMessage(content='How does Ayurveda contribute to overall health, and what are its main principles as described in studies?', additional_kwargs={}, response_metadata={}), AIMessage(content=' Ayurveda contributes to overall health by promoting a holistic approach to physical, mental, and spiritual well-being. Its main principles include a focus on preventive and personalized medicine, low-cost lifestyle counseling, and integration of spirituality and ethics in healthcare.', additional_kwargs={}, response_metadata={}), HumanMessage(content='How does Ayurveda contribute to overall health, and what are its main principles as described in studies?', additional_kwargs={}, response_metadata={}), AIMessage(content=' Ayurveda contributes to overall health by emphasizing a holistic approach that includes physical, mental, and spiritual well-being. Its main principles include a focus on preventive and personalized medicine, low-cost personalized counseling, and promoting health education and individual awareness.', additional_kwargs={}, response_metadata={}), HumanMessage(content='Can you elaborate on the spiritual side of ayurveda? ', additional_kwargs={}, response_metadata={}), AIMessage(content=' Ayurveda places a significant emphasis on the spiritual aspect of health and healing. It sees life as a four-dimensional entity and adopts a comprehensive psychosomatic-spiritual approach to preservation of health and cure of diseases. This includes practices such as Satvavajaya (psychotherapy) and maintaining Dosha equilibrium through diet, lifestyle, and Panchkarama. Additionally, Ayurveda views each individual as unique and tailors treatment to their constitution (Prakruti). There is also growing interest in Ayurveda globally, as it has been found to have potential in both biological and clinical aspects when studied through modern ethnovalidation methods.', additional_kwargs={}, response_metadata={}), HumanMessage(content='', additional_kwargs={}, response_metadata={}), AIMessage(content=' I am sorry, I do not have enough context to answer this question as it is asking for a specific piece of information from the DOI, PMCID, and PMID numbers provided. ', additional_kwargs={}, response_metadata={}), HumanMessage(content='What is Ashwagandha?', additional_kwargs={}, response_metadata={}), AIMessage(content=' Ashwagandha is an extract derived from the plant Withania somnifera and is commonly used in traditional Indian medicine. It has been studied for its potential pharmacotherapeutic properties in animal models and has shown potential benefits in certain neuropsychiatric conditions in human subjects. It is also known as the \"Indian ginseng\" and is classified as a rasayana (rejuvenation) in Ayurveda.', additional_kwargs={}, response_metadata={}), HumanMessage(content='How does it compare to Brahmi?', additional_kwargs={}, response_metadata={}), AIMessage(content=' Brahmi has a higher antioxidant effect than known antioxidants tris, EDTA, and vitamin E.', additional_kwargs={}, response_metadata={}), HumanMessage(content='What is Ashwagandha?', additional_kwargs={}, response_metadata={}), AIMessage(content=' Ashwagandha is an extract of the plant Withania somnifera, commonly known as Indian ginseng, that is used in traditional Indian medicine to promote physical and mental health. It is also known for its potential pharmacotherapeutic properties for certain neuropsychiatric conditions.', additional_kwargs={}, response_metadata={}), HumanMessage(content='What is Ashwagandha?', additional_kwargs={}, response_metadata={}), AIMessage(content=' Ashwagandha is an Ayurvedic herb commonly used in traditional Indian medicine for various purposes, such as promoting physical and mental health, rejuvenating the body, and increasing longevity. It is also known as Withania somnifera. ', additional_kwargs={}, response_metadata={}), HumanMessage(content='What is Ashwagandha?', additional_kwargs={}, response_metadata={}), AIMessage(content=' Ashwagandha is an herb that is commonly used in Ayurvedic medicine to promote overall health and well-being. It is known for its potential pharmacotherapeutic properties and is also called Withania somnifera.', additional_kwargs={}, response_metadata={}), HumanMessage(content='How does it compare to brahmi?', additional_kwargs={}, response_metadata={}), AIMessage(content=' Ashwagandha and Brahmi both have potential pharmacotherapeutic properties, but they are derived from different plants and have different effects on the body. Brahmi has a higher antioxidant effect than known antioxidants tris, EDTA, and vitamin E, while Ashwagandha has been studied for its potential benefits in certain neuropsychiatric conditions. ', additional_kwargs={}, response_metadata={}), HumanMessage(content='Which one out of the two is better? ', additional_kwargs={}, response_metadata={}), AIMessage(content=' It is not possible to say which herb is better as they have different effects on the body and are used for different purposes. It is best to consult with a healthcare professional to determine which herb may be more beneficial for your specific health needs.', additional_kwargs={}, response_metadata={}), HumanMessage(content='For daily use, which one is better?', additional_kwargs={}, response_metadata={}), AIMessage(content=' Both Ashwagandha and Brahmi can be used daily, but it is important to consult with a healthcare professional before incorporating them into your daily routine to determine the appropriate dosage and potential interactions with other medications or supplements.', additional_kwargs={}, response_metadata={}), HumanMessage(content='What is ashwgandha? ', additional_kwargs={}, response_metadata={}), AIMessage(content=' Ashwagandha is the extract of the plant Withania somnifera and is widely used in complementary, alternative, and integrative medicine for its potential benefits in certain neuropsychiatric conditions. It has been studied for its antioxidant, neuroprotective, and adaptogenic properties.', additional_kwargs={}, response_metadata={}), HumanMessage(content='How does it compare to brahami?', additional_kwargs={}, response_metadata={}), AIMessage(content='  Both Ashwagandha and Brahmi have different properties and uses. Ashwagandha is known for its antioxidant, neuroprotective, and adaptogenic properties, while Brahmi is known for its potential benefits in improving memory, concentration, and cognitive function. Both herbs have their own unique benefits and it is best to consult with a healthcare professional to determine which may be more beneficial for your specific health needs.', additional_kwargs={}, response_metadata={}), HumanMessage(content='Which one out of the two would u recommend for daily use?', additional_kwargs={}, response_metadata={}), AIMessage(content=' I cannot make specific recommendations for individual health needs as I am a computer program. It is important to consult with a healthcare professional to determine which herb may be more beneficial for your specific health needs before incorporating it into your daily routine.', additional_kwargs={}, response_metadata={})]\n",
      "Bot:  I cannot make specific recommendations for individual health needs as I am a computer program. It is important to consult with a healthcare professional to determine which herb may be more beneficial for your specific health needs before incorporating it into your daily routine.\n",
      "\n",
      "**Citations:**\n",
      "- Potential clinical applications of Ashwagandha (Withania somnifera) in medicine \n",
      "and neuropsychiatry. (Citation ID: 6183)\n",
      "- Safety of Ashwagandha Root Extract: A Randomized, Placebo-Controlled, study in \n",
      "Healthy Volunteers. (Citation ID: 875)\n",
      "- Nootropic potential of Ashwagandha leaves: Beyond traditional root extracts. (Citation ID: 1378)\n",
      "- Neuroprotection with Bacopa monnieri-A review of experimental evidence. (Citation ID: 3877)\n",
      "\n",
      "DEBUG - Chat History After Update:\n",
      " [HumanMessage(content='How does Ayurveda contribute to overall health, and what are its main principles as described in studies?', additional_kwargs={}, response_metadata={}), AIMessage(content=' Ayurveda contributes to overall health by promoting a state of complete physical, mental, and spiritual well-being. Its main principles include a focus on predictive, preventive, and personalized medicine, personalized counseling on lifestyle measures, and an emphasis on self-awareness and good relationships with others and nature. It also incorporates factors such as health education, individual awareness, and spirituality in healthcare to improve overall well-being and promote healthy aging.', additional_kwargs={}, response_metadata={}), HumanMessage(content='how does it incorporate spirituality?', additional_kwargs={}, response_metadata={}), AIMessage(content=' The paper mentions that the Vedic approach to therapy is based on the integration of healing and human development, with a focus on consciousness as the basis of the mind. This approach contrasts with other therapies that focus on the unconscious mind and suggests that the Vedic approach is more holistic. Additionally, the paper mentions that interventions associated with this approach have support in the research literature.', additional_kwargs={}, response_metadata={}), HumanMessage(content='i did not understand ', additional_kwargs={}, response_metadata={}), AIMessage(content=' I apologize, I am just a language model AI and I am not able to understand the question. Please provide a specific question or detail that you need clarification on.', additional_kwargs={}, response_metadata={}), HumanMessage(content='what do you mean?', additional_kwargs={}, response_metadata={}), AIMessage(content=\" This passage is discussing the concept of Ayurveda and how it relates to the four components of the body. It also mentions Sushruta's view on foetal sex determination based on the balance of semen and menstrual blood.\", additional_kwargs={}, response_metadata={}), HumanMessage(content='How does Ayurveda contribute to overall health, and what are its main principles as described in studies?', additional_kwargs={}, response_metadata={}), AIMessage(content=' Ayurveda contributes to overall health by promoting a holistic approach to physical, mental, and spiritual well-being. Its main principles include a focus on preventive and personalized medicine, low-cost lifestyle counseling, and integration of spirituality and ethics in healthcare.', additional_kwargs={}, response_metadata={}), HumanMessage(content='How does Ayurveda contribute to overall health, and what are its main principles as described in studies?', additional_kwargs={}, response_metadata={}), AIMessage(content=' Ayurveda contributes to overall health by emphasizing a holistic approach that includes physical, mental, and spiritual well-being. Its main principles include a focus on preventive and personalized medicine, low-cost personalized counseling, and promoting health education and individual awareness.', additional_kwargs={}, response_metadata={}), HumanMessage(content='Can you elaborate on the spiritual side of ayurveda? ', additional_kwargs={}, response_metadata={}), AIMessage(content=' Ayurveda places a significant emphasis on the spiritual aspect of health and healing. It sees life as a four-dimensional entity and adopts a comprehensive psychosomatic-spiritual approach to preservation of health and cure of diseases. This includes practices such as Satvavajaya (psychotherapy) and maintaining Dosha equilibrium through diet, lifestyle, and Panchkarama. Additionally, Ayurveda views each individual as unique and tailors treatment to their constitution (Prakruti). There is also growing interest in Ayurveda globally, as it has been found to have potential in both biological and clinical aspects when studied through modern ethnovalidation methods.', additional_kwargs={}, response_metadata={}), HumanMessage(content='', additional_kwargs={}, response_metadata={}), AIMessage(content=' I am sorry, I do not have enough context to answer this question as it is asking for a specific piece of information from the DOI, PMCID, and PMID numbers provided. ', additional_kwargs={}, response_metadata={}), HumanMessage(content='What is Ashwagandha?', additional_kwargs={}, response_metadata={}), AIMessage(content=' Ashwagandha is an extract derived from the plant Withania somnifera and is commonly used in traditional Indian medicine. It has been studied for its potential pharmacotherapeutic properties in animal models and has shown potential benefits in certain neuropsychiatric conditions in human subjects. It is also known as the \"Indian ginseng\" and is classified as a rasayana (rejuvenation) in Ayurveda.', additional_kwargs={}, response_metadata={}), HumanMessage(content='How does it compare to Brahmi?', additional_kwargs={}, response_metadata={}), AIMessage(content=' Brahmi has a higher antioxidant effect than known antioxidants tris, EDTA, and vitamin E.', additional_kwargs={}, response_metadata={}), HumanMessage(content='What is Ashwagandha?', additional_kwargs={}, response_metadata={}), AIMessage(content=' Ashwagandha is an extract of the plant Withania somnifera, commonly known as Indian ginseng, that is used in traditional Indian medicine to promote physical and mental health. It is also known for its potential pharmacotherapeutic properties for certain neuropsychiatric conditions.', additional_kwargs={}, response_metadata={}), HumanMessage(content='What is Ashwagandha?', additional_kwargs={}, response_metadata={}), AIMessage(content=' Ashwagandha is an Ayurvedic herb commonly used in traditional Indian medicine for various purposes, such as promoting physical and mental health, rejuvenating the body, and increasing longevity. It is also known as Withania somnifera. ', additional_kwargs={}, response_metadata={}), HumanMessage(content='What is Ashwagandha?', additional_kwargs={}, response_metadata={}), AIMessage(content=' Ashwagandha is an herb that is commonly used in Ayurvedic medicine to promote overall health and well-being. It is known for its potential pharmacotherapeutic properties and is also called Withania somnifera.', additional_kwargs={}, response_metadata={}), HumanMessage(content='How does it compare to brahmi?', additional_kwargs={}, response_metadata={}), AIMessage(content=' Ashwagandha and Brahmi both have potential pharmacotherapeutic properties, but they are derived from different plants and have different effects on the body. Brahmi has a higher antioxidant effect than known antioxidants tris, EDTA, and vitamin E, while Ashwagandha has been studied for its potential benefits in certain neuropsychiatric conditions. ', additional_kwargs={}, response_metadata={}), HumanMessage(content='Which one out of the two is better? ', additional_kwargs={}, response_metadata={}), AIMessage(content=' It is not possible to say which herb is better as they have different effects on the body and are used for different purposes. It is best to consult with a healthcare professional to determine which herb may be more beneficial for your specific health needs.', additional_kwargs={}, response_metadata={}), HumanMessage(content='For daily use, which one is better?', additional_kwargs={}, response_metadata={}), AIMessage(content=' Both Ashwagandha and Brahmi can be used daily, but it is important to consult with a healthcare professional before incorporating them into your daily routine to determine the appropriate dosage and potential interactions with other medications or supplements.', additional_kwargs={}, response_metadata={}), HumanMessage(content='What is ashwgandha? ', additional_kwargs={}, response_metadata={}), AIMessage(content=' Ashwagandha is the extract of the plant Withania somnifera and is widely used in complementary, alternative, and integrative medicine for its potential benefits in certain neuropsychiatric conditions. It has been studied for its antioxidant, neuroprotective, and adaptogenic properties.', additional_kwargs={}, response_metadata={}), HumanMessage(content='How does it compare to brahami?', additional_kwargs={}, response_metadata={}), AIMessage(content='  Both Ashwagandha and Brahmi have different properties and uses. Ashwagandha is known for its antioxidant, neuroprotective, and adaptogenic properties, while Brahmi is known for its potential benefits in improving memory, concentration, and cognitive function. Both herbs have their own unique benefits and it is best to consult with a healthcare professional to determine which may be more beneficial for your specific health needs.', additional_kwargs={}, response_metadata={}), HumanMessage(content='Which one out of the two would u recommend for daily use?', additional_kwargs={}, response_metadata={}), AIMessage(content=' I cannot make specific recommendations for individual health needs as I am a computer program. It is important to consult with a healthcare professional to determine which herb may be more beneficial for your specific health needs before incorporating it into your daily routine.', additional_kwargs={}, response_metadata={}), HumanMessage(content='can they be taken daily?', additional_kwargs={}, response_metadata={}), AIMessage(content=' Both Ashwagandha and Brahmi can potentially be taken daily but it is important to consult with a healthcare professional to determine the proper dosage and frequency for your individual health needs. Additionally, it is important to follow the recommended guidelines and instructions for each herb to ensure safe and effective use.', additional_kwargs={}, response_metadata={})]\n",
      "Bot:  Both Ashwagandha and Brahmi can potentially be taken daily but it is important to consult with a healthcare professional to determine the proper dosage and frequency for your individual health needs. Additionally, it is important to follow the recommended guidelines and instructions for each herb to ensure safe and effective use.\n",
      "\n",
      "**Citations:**\n",
      "- Potential clinical applications of Ashwagandha (Withania somnifera) in medicine \n",
      "and neuropsychiatry. (Citation ID: 6183)\n",
      "- Safety of Ashwagandha Root Extract: A Randomized, Placebo-Controlled, study in \n",
      "Healthy Volunteers. (Citation ID: 875)\n",
      "- Withania somnifera and Its Withanolides Attenuate Oxidative and Inflammatory \n",
      "Responses and Up-Regulate Antioxidant Responses in BV-2 Microglial Cells. (Citation ID: 3366)\n",
      "- Nootropic potential of Ashwagandha leaves: Beyond traditional root extracts. (Citation ID: 1378)\n",
      "\n"
     ]
    }
   ],
   "source": [
    "# print(\"Chatbot is ready! Type 'exit' to stop.\\n\")\n",
    "\n",
    "# chat_history = []\n",
    "# while True:\n",
    "#     user_query = input(\"You: \")\n",
    "#     if user_query.lower() == \"exit\":\n",
    "#         break\n",
    "\n",
    "#     bot_response = chat_with_rag(user_query)\n",
    "#     print(f\"Bot: {bot_response}\\n\")"
   ]
  },
  {
   "cell_type": "code",
   "execution_count": null,
   "metadata": {},
   "outputs": [],
   "source": []
  }
 ],
 "metadata": {
  "kernelspec": {
   "display_name": "Python 3",
   "language": "python",
   "name": "python3"
  },
  "language_info": {
   "codemirror_mode": {
    "name": "ipython",
    "version": 3
   },
   "file_extension": ".py",
   "mimetype": "text/x-python",
   "name": "python",
   "nbconvert_exporter": "python",
   "pygments_lexer": "ipython3",
   "version": "3.10.4"
  }
 },
 "nbformat": 4,
 "nbformat_minor": 2
}
