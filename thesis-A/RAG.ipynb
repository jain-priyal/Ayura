{
 "cells": [
  {
   "cell_type": "code",
   "execution_count": 2,
   "metadata": {},
   "outputs": [],
   "source": [
    "import pandas as pd\n",
    "from langchain_openai import OpenAI, OpenAIEmbeddings\n",
    "from langchain.vectorstores.faiss import FAISS\n",
    "from langchain.text_splitter import CharacterTextSplitter\n",
    "from langchain.schema import Document\n",
    "from langchain.chains import RetrievalQA"
   ]
  },
  {
   "cell_type": "code",
   "execution_count": 4,
   "metadata": {},
   "outputs": [],
   "source": [
    "file_path = \"/Users/priyal/Documents/honours/extracted_papers_info.csv\"\n",
    "data = pd.read_csv(file_path)\n",
    "\n",
    "text_splitter = CharacterTextSplitter(chunk_size=500, chunk_overlap=50)\n",
    "\n",
    "documents = []\n",
    "for idx, row in data.iterrows():\n",
    "    title = row.get(\"Title\", \"\")  \n",
    "    abstract = row.get(\"Abstract\", \"\")  \n",
    "    author = row.get(\n",
    "        \"Author Names\", \"Unknown\"\n",
    "    ) \n",
    "\n",
    "    if isinstance(abstract, str) and abstract.strip():\n",
    "        chunks = text_splitter.split_text(abstract)\n",
    "\n",
    "        for chunk in chunks:\n",
    "            documents.append(\n",
    "                Document(\n",
    "                    page_content=chunk,\n",
    "                    metadata={\n",
    "                        \"citation\": f\"{title} (Citation ID: {idx})\",\n",
    "                        \"author\": author,\n",
    "                    },\n",
    "                )\n",
    "            )"
   ]
  },
  {
   "cell_type": "code",
   "execution_count": null,
   "metadata": {},
   "outputs": [],
   "source": [
    "openai_api_key = os.getenv(\"OPENAI_API_KEY\")\n",
    "\n",
    "embeddings = OpenAIEmbeddings(openai_api_key=openai_api_key)\n",
    "\n",
    "\n",
    "texts = [doc.page_content for doc in documents] \n",
    "metadatas = [doc.metadata for doc in documents] \n",
    "\n",
    "faiss_index = FAISS.from_texts(texts, embeddings, metadatas=metadatas)"
   ]
  },
  {
   "cell_type": "code",
   "execution_count": 5,
   "metadata": {},
   "outputs": [],
   "source": [
    "retriever = faiss_index.as_retriever()\n",
    "\n",
    "llm = OpenAI(\n",
    "    openai_api_key=openai_api_key, temperature=0.7\n",
    ") \n",
    "\n",
    "rag_chain = RetrievalQA.from_chain_type(\n",
    "    llm=llm,\n",
    "    retriever=retriever,\n",
    "    return_source_documents=True,  \n",
    ")"
   ]
  },
  {
   "cell_type": "code",
   "execution_count": 6,
   "metadata": {},
   "outputs": [
    {
     "name": "stdout",
     "output_type": "stream",
     "text": [
      "Answer:  Ayurveda contributes to overall health by promoting a state of complete physical, mental, and spiritual well-being. Its main principles include a holistic approach, personalized medicine, and prevention strategies such as health education, individual awareness, and the integration of spirituality and ethics in healthcare.\n",
      "Citation: Ayurveda: an international overview - part I. (Citation ID: 3834), Author: Pal MN(1).\n",
      "Citation: The total life - vision in ancient Indian medicine. (Citation ID: 3582), Author: Ramachandran CK(1).\n",
      "Citation: Ayurveda for the service of common man. (Citation ID: 3735), Author: Udupa KN(1).\n",
      "Citation: Salutogenesis and Ayurveda: indications for public health management. (Citation ID: 2528), Author: Morandi A(1), Tosto C, Roberti di Sarsina P, Dalla Libera D.\n"
     ]
    }
   ],
   "source": [
    "question = \"How does Ayurveda contribute to overall health, and what are its main principles as described in studies?\"\n",
    "\n",
    "result = rag_chain.invoke(question)\n",
    "\n",
    "print(\"Answer:\", result[\"result\"])\n",
    "for source in result[\"source_documents\"]:\n",
    "    citation = source.metadata[\"citation\"]\n",
    "    author = source.metadata.get(\"author\", \"Unknown\")\n",
    "    print(f\"Citation: {citation}, Author: {author}\")"
   ]
  },
  {
   "cell_type": "code",
   "execution_count": 11,
   "metadata": {},
   "outputs": [
    {
     "name": "stdout",
     "output_type": "stream",
     "text": [
      "Answer:  Ayurveda recommends following a healthy lifestyle, including a balanced diet and regular exercise, to prevent diseases like diabetes and heart problems. You can incorporate Ayurvedic principles into your family's daily routine, such as eating according to your individual constitution and practicing relaxation techniques like yoga and meditation. Additionally, you can consult with an Ayurvedic practitioner for personalized recommendations and potentially incorporate Ayurvedic herbs and supplements into your family's routine. However, it is important to also consult with a healthcare professional for any serious health concerns and to follow their recommendations.\n",
      "Citation: Maternal health, supraja (eugenics) and ayurveda. (Citation ID: 3607), Author: Nanal VV(1), Borgave VS.\n",
      "Citation: Effect of Ayurveda intervention, lifestyle modification and Yoga in prediabetic \n",
      "and type 2 diabetes under the National Programme for Prevention and Control of \n",
      "Cancer, Diabetes, Cardiovascular Diseases and Stroke (NPCDCS)-AYUSH integration \n",
      "project. (Citation ID: 3756), Author: Sharma R(1), Shahi VK(1), Khanduri S(1), Goyal A(1), Chaudhary S(2), Rana RK(1), \n",
      "Singhal R(1), Srikanth N(1), Dhiman KS(1).\n",
      "Citation: Ayurveda for diabetes mellitus: a review of the biomedical literature. (Citation ID: 770), Author: Elder C(1).\n",
      "Citation: Use of Ayurveda in the Treatment of Type 2 Diabetes Mellitus. (Citation ID: 2601), Author: Gordon A(1), Buch Z(2), Baute V(1), Coeytaux R(1).\n"
     ]
    }
   ],
   "source": [
    "question = \"My family has a history of heart problems. I do no want my children to suffer from these diseases. How can I use Ayurveda to help my family avoid illnesses like diabetes or heart problems?\"\n",
    "\n",
    "result = rag_chain.invoke(question)\n",
    "\n",
    "print(\"Answer:\", result[\"result\"])\n",
    "for source in result[\"source_documents\"]:\n",
    "    citation = source.metadata[\"citation\"]\n",
    "    author = source.metadata.get(\"author\", \"Unknown\")\n",
    "    print(f\"Citation: {citation}, Author: {author}\")"
   ]
  },
  {
   "cell_type": "code",
   "execution_count": 8,
   "metadata": {},
   "outputs": [
    {
     "name": "stdout",
     "output_type": "stream",
     "text": [
      "Answer:  Ayurveda utilizes a multifaceted approach to treating epilepsy, including pharmacologic and nonpharmacologic measures, purificatory and pacifying procedures, herbal and herbo-mineral formulations, and disease and host-specific approaches. Studies have shown that Ayurvedic therapies, such as yoga and herbal remedies, can be beneficial in managing epilepsy by reducing stress, improving seizure control, and potentially reducing the need for medication. However, more research is needed to fully understand the effectiveness of these therapies. \n",
      "Citation: Ayurveda and botanical drugs for epilepsy: Current evidence and future \n",
      "prospects. (Citation ID: 867), Author: Sriranjini SJ(1), Sandhya K(2), Mamta VS(3).\n",
      "Citation: Ayurveda therapy in the management of epilepsy. (Citation ID: 2), Author: Adiga SH(1), Adiga RS(2), Bhat KMR(3), Upadhya D(4).\n",
      "Citation: Nonpharmacological treatment of epilepsy. (Citation ID: 4255), Author: Saxena VS(1), Nadkarni VV.\n",
      "Citation: Yoga and epilepsy: What do patients perceive? (Citation ID: 5878), Author: Naveen GH(1), Sinha S, Girish N, Taly AB, Varambally S, Gangadhar BN.\n"
     ]
    }
   ],
   "source": [
    "question = \"What Ayurvedic therapies are used in the management of epilepsy, and how effective are they?\"\n",
    "\n",
    "result = rag_chain.invoke(question)\n",
    "\n",
    "print(\"Answer:\", result[\"result\"])\n",
    "for source in result[\"source_documents\"]:\n",
    "    citation = source.metadata[\"citation\"]\n",
    "    author = source.metadata.get(\"author\", \"Unknown\")\n",
    "    print(f\"Citation: {citation}, Author: {author}\")"
   ]
  },
  {
   "cell_type": "code",
   "execution_count": 9,
   "metadata": {},
   "outputs": [
    {
     "name": "stdout",
     "output_type": "stream",
     "text": [
      "Answer:  Yes, Ayurveda may be able to help improve your energy levels and reduce feelings of laziness and lethargy. According to Ayurvedic principles, balancing the body's doshas (vital energies) and following a healthy lifestyle and diet can help improve overall energy and well-being. You may want to consult with an Ayurvedic practitioner to determine your body type and receive personalized recommendations for diet, herbal supplements, and lifestyle changes that can help increase your energy levels. Additionally, incorporating regular physical activity, yoga, and meditation into your daily routine can also help improve energy levels.\n",
      "Citation: Effects of yoga and add on Ayurvedic Kati Basti therapy for patients with \n",
      "chronic low back pain: A randomized controlled trial. (Citation ID: 3624), Author: Bhatta M(1), Patil SS(2), Yadav SS(3), Somanadhapai S(3), Thapa R(3).\n",
      "Citation: Food allergies--leads from Ayurveda. (Citation ID: 53), Author: Arora D(1), Kumar M.\n",
      "Citation: The kalpa method of therapy in chronic diseases. (Citation ID: 4693), Author: Singh NK(1), Singh RH.\n",
      "Citation: An integrated therapy approach for the management of obesity-associated \n",
      "disorders: A case report. (Citation ID: 3828), Author: Verma A(1), Shete SU(1), Doddoli G(2).\n"
     ]
    }
   ],
   "source": [
    "question = \"I have been feeling very lazy and lathargic these days. Can Ayurveda help me feel more energized throughout the day?\"\n",
    "\n",
    "result = rag_chain.invoke(question)\n",
    "\n",
    "print(\"Answer:\", result[\"result\"])\n",
    "for source in result[\"source_documents\"]:\n",
    "    citation = source.metadata[\"citation\"]\n",
    "    author = source.metadata.get(\"author\", \"Unknown\")\n",
    "    print(f\"Citation: {citation}, Author: {author}\")"
   ]
  },
  {
   "cell_type": "code",
   "execution_count": 10,
   "metadata": {},
   "outputs": [
    {
     "name": "stdout",
     "output_type": "stream",
     "text": [
      "Answer: \n",
      "\n",
      "Ayurveda is being integrated with modern biological sciences through collaborative research efforts, such as the ASIIA projects of the Indian government. However, this integration faces challenges due to the fundamental differences in ontology between Ayurveda and modern sciences. This means that a mutually acceptable vocabulary must be developed in order for effective collaboration to take place. This integration has the potential to bring benefits in terms of personalized medicine and making Ayurveda relevant in the current environment, but it also raises concerns about the pharmaceuticalization and commercialization of Ayurveda.\n",
      "Citation: Reflections on current Ayurveda research. (Citation ID: 3593), Author: Ramaswamy S(1).\n",
      "Citation: Integrating Ayurveda and modern mainstream medicine. (Citation ID: 3807), Author: Mohanan KP(1).\n",
      "Citation: Ayurveda research: Ontological challenges. (Citation ID: 3569), Author: Nayak J(1).\n",
      "Citation: What could 'integrative' medicine mean? Social science perspectives on \n",
      "contemporary Ayurveda. (Citation ID: 3573), Author: Sujatha V(1).\n"
     ]
    }
   ],
   "source": [
    "question = \"How is Ayurveda being integrated with modern biological sciences, and what challenges or benefits does this integration bring?\"\n",
    "\n",
    "result = rag_chain.invoke(question)\n",
    "\n",
    "print(\"Answer:\", result[\"result\"])\n",
    "for source in result[\"source_documents\"]:\n",
    "    citation = source.metadata[\"citation\"]\n",
    "    author = source.metadata.get(\"author\", \"Unknown\")\n",
    "    print(f\"Citation: {citation}, Author: {author}\")"
   ]
  },
  {
   "cell_type": "code",
   "execution_count": 9,
   "metadata": {},
   "outputs": [
    {
     "data": {
      "text/plain": [
       "'/Users/priyal/Documents/honours/layperson_qa_prompts_dataset.json'"
      ]
     },
     "execution_count": 9,
     "metadata": {},
     "output_type": "execute_result"
    }
   ],
   "source": [
    "import pandas as pd\n",
    "import random\n",
    "\n",
    "\n",
    "def generate_layperson_qa_prompts(df, num_prompts=400):\n",
    "    prompts = []\n",
    "    for _, row in df.iterrows():\n",
    "        title = row[\"Title\"].strip()\n",
    "        abstract = str(row[\"Abstract\"]).strip()\n",
    "        if not abstract or abstract.lower().startswith(\"pmid:\"):\n",
    "            continue  # Skip rows with missing or non-informative abstracts\n",
    "\n",
    "        # Create a snippet from the abstract for reference (first 200 characters)\n",
    "        snippet = abstract[:200].strip()\n",
    "\n",
    "        # Define three layperson-friendly QA pairs\n",
    "        qa_pairs = [\n",
    "            {\n",
    "                \"instruction\": f\"Can you explain in simple terms what the study '{title}' is about?\",\n",
    "                \"output\": f\"The study '{title}' explores how Ayurveda—a traditional, natural health care system—might work alongside modern science. In simple terms, it examines whether ancient practices can influence bodily processes, such as turning certain genes on or off, to help maintain or improve health. For example, the abstract mentions: '{snippet}...'\",\n",
    "            },\n",
    "            {\n",
    "                \"instruction\": f\"How might the findings of the study '{title}' affect everyday health care decisions?\",\n",
    "                \"output\": f\"Based on the study '{title}', the research suggests that elements of Ayurveda could offer practical benefits for everyday health. In everyday language, it means that incorporating certain traditional practices might help manage or even prevent health issues naturally. The abstract starts by stating: '{snippet}...'\",\n",
    "            },\n",
    "            {\n",
    "                \"instruction\": f\"Why is the research in '{title}' important for our everyday health?\",\n",
    "                \"output\": f\"The research '{title}' is important because it connects traditional Ayurvedic practices with modern health ideas. Simply put, it shows that understanding these ancient methods might offer new ways to look after our health, potentially complementing modern treatments. As noted in the abstract: '{snippet}...'\",\n",
    "            },\n",
    "        ]\n",
    "\n",
    "        # Randomly select 3 QA pairs per abstract to increase diversity\n",
    "        selected_qa = random.sample(qa_pairs, k=min(3, len(qa_pairs)))\n",
    "\n",
    "        for qa in selected_qa:\n",
    "            prompts.append(\n",
    "                {\n",
    "                    \"instruction\": qa[\"instruction\"],\n",
    "                    \"input\": abstract,\n",
    "                    \"output\": qa[\"output\"],\n",
    "                }\n",
    "            )\n",
    "\n",
    "        if len(prompts) >= num_prompts:\n",
    "            break\n",
    "    return prompts\n",
    "\n",
    "\n",
    "# Load your research papers dataset\n",
    "file_path = \"/Users/priyal/Documents/honours/extracted_papers_info.csv\"\n",
    "df = pd.read_csv(file_path)\n",
    "\n",
    "# Generate the layperson-friendly QA prompts\n",
    "layperson_prompts = generate_layperson_qa_prompts(df, num_prompts=400)\n",
    "\n",
    "# Save the dataset as a JSON file\n",
    "output_file = \"/Users/priyal/Documents/honours/layperson_qa_prompts_dataset.json\"\n",
    "pd.DataFrame(layperson_prompts).to_json(output_file, orient=\"records\", indent=4)\n",
    "\n",
    "output_file"
   ]
  },
  {
   "cell_type": "code",
   "execution_count": null,
   "metadata": {},
   "outputs": [],
   "source": []
  }
 ],
 "metadata": {
  "kernelspec": {
   "display_name": "Python 3",
   "language": "python",
   "name": "python3"
  },
  "language_info": {
   "codemirror_mode": {
    "name": "ipython",
    "version": 3
   },
   "file_extension": ".py",
   "mimetype": "text/x-python",
   "name": "python",
   "nbconvert_exporter": "python",
   "pygments_lexer": "ipython3",
   "version": "3.10.4"
  }
 },
 "nbformat": 4,
 "nbformat_minor": 2
}
